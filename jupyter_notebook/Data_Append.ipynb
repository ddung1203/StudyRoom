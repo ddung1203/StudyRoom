{
 "cells": [
  {
   "cell_type": "markdown",
   "id": "ada8942d",
   "metadata": {},
   "source": [
    "# 기존 20만건 데이터에 크롤링 데이터 추가"
   ]
  },
  {
   "cell_type": "markdown",
   "id": "a131c4d9",
   "metadata": {},
   "source": []
  },
  {
   "cell_type": "markdown",
   "id": "3635826d",
   "metadata": {},
   "source": [
    "#### S3에서 20만건 불러오기"
   ]
  },
  {
   "cell_type": "code",
   "execution_count": null,
   "id": "bb43fa4e",
   "metadata": {},
   "outputs": [],
   "source": [
    "session = boto3.Session(profile_name='default')\n",
    "s3 = session.resource('s3')\n",
    "bucket = s3.Bucket('potatoes3')\n",
    "with smart_open('s3://potatoes3/naver_shopping.txt', 'rt', encoding='UTF8') as f2:\n",
    "    data=f2.read()\n",
    "\n",
    "total_data = pd.read_table('ratings_total.txt', names=['ratings', 'reviews'])"
   ]
  },
  {
   "cell_type": "code",
   "execution_count": null,
   "id": "3987c2e2",
   "metadata": {},
   "outputs": [],
   "source": []
  },
  {
   "cell_type": "markdown",
   "id": "c32b3842",
   "metadata": {},
   "source": [
    "#### 임시저장한 데이터 불러오기"
   ]
  },
  {
   "cell_type": "code",
   "execution_count": null,
   "id": "fab94a44",
   "metadata": {},
   "outputs": [],
   "source": [
    "data1 = pd.read_csv('goodnara.csv')\n",
    "data2 = pd.read_csv('drstyle.csv')\n",
    "data3 = pd.read_csv('thecheaper.csv')\n",
    "data4 = pd.read_csv('theshopsw.csv')\n",
    "data5 = pd.read_csv('cloony.csv')\n",
    "data6 = pd.read_csv('store180.csv')\n",
    "data=pd.concat([data1, data2, data3, data4, data5, data6], ignore_index=True)\n",
    "data=data.loc[:, ['comment', 'star']].dropna()\n",
    "\n",
    "data=data.rename(columns={'comment':'reviews', 'star':'ratings'})"
   ]
  },
  {
   "cell_type": "code",
   "execution_count": null,
   "id": "fec30779",
   "metadata": {},
   "outputs": [],
   "source": []
  },
  {
   "cell_type": "markdown",
   "id": "dc711355",
   "metadata": {},
   "source": [
    "#### 동일한 형태의 Dataframe 합치기"
   ]
  },
  {
   "cell_type": "code",
   "execution_count": null,
   "id": "d08259c3",
   "metadata": {},
   "outputs": [],
   "source": [
    "total_data=pd.concat([total_data, data], ignore_index=True)"
   ]
  },
  {
   "cell_type": "code",
   "execution_count": null,
   "id": "e6c63e54",
   "metadata": {},
   "outputs": [],
   "source": []
  },
  {
   "cell_type": "markdown",
   "id": "ff5dec3c",
   "metadata": {},
   "source": [
    "#### 합친 데이터 임시 저장"
   ]
  },
  {
   "cell_type": "code",
   "execution_count": null,
   "id": "9c50951e",
   "metadata": {},
   "outputs": [],
   "source": [
    "file = open(\"naver_shopping.txt\", \"w\", encoding=\"UTF-8\")\n",
    "file.write(data)\n",
    "file.close()"
   ]
  },
  {
   "cell_type": "code",
   "execution_count": null,
   "id": "f3bb9562",
   "metadata": {},
   "outputs": [],
   "source": []
  },
  {
   "cell_type": "markdown",
   "id": "00c49820",
   "metadata": {},
   "source": [
    "#### S3 업로드"
   ]
  },
  {
   "cell_type": "code",
   "execution_count": null,
   "id": "683ad08a",
   "metadata": {},
   "outputs": [],
   "source": [
    "file_name = 'naver_shopping.txt'\n",
    "bucket='potatoes3'\n",
    "key='naver_shopping.txt'\n",
    "s3 = boto3.client('s3')\n",
    "\n",
    "res = s3.upload_file(file_name, bucket, key)"
   ]
  }
 ],
 "metadata": {
  "kernelspec": {
   "display_name": "Python 3 (ipykernel)",
   "language": "python",
   "name": "python3"
  },
  "language_info": {
   "codemirror_mode": {
    "name": "ipython",
    "version": 3
   },
   "file_extension": ".py",
   "mimetype": "text/x-python",
   "name": "python",
   "nbconvert_exporter": "python",
   "pygments_lexer": "ipython3",
   "version": "3.9.12"
  }
 },
 "nbformat": 4,
 "nbformat_minor": 5
}
