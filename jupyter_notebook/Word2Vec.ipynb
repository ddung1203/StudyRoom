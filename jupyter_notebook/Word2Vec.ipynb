{
 "cells": [
  {
   "cell_type": "code",
   "execution_count": 1,
   "id": "f6fbf6b0",
   "metadata": {},
   "outputs": [
    {
     "name": "stderr",
     "output_type": "stream",
     "text": [
      "C:\\Users\\jeonj\\anaconda3\\lib\\site-packages\\scipy\\__init__.py:146: UserWarning: A NumPy version >=1.16.5 and <1.23.0 is required for this version of SciPy (detected version 1.23.0\n",
      "  warnings.warn(f\"A NumPy version >={np_minversion} and <{np_maxversion}\"\n"
     ]
    },
    {
     "name": "stdout",
     "output_type": "stream",
     "text": [
      "WARNING:tensorflow:From C:\\Users\\jeonj\\AppData\\Local\\Temp\\ipykernel_15440\\1071252944.py:17: is_gpu_available (from tensorflow.python.framework.test_util) is deprecated and will be removed in a future version.\n",
      "Instructions for updating:\n",
      "Use `tf.config.list_physical_devices('GPU')` instead.\n"
     ]
    },
    {
     "name": "stderr",
     "output_type": "stream",
     "text": [
      "C:\\Users\\jeonj\\AppData\\Local\\Temp\\ipykernel_15440\\1071252944.py:43: FutureWarning: The default value of regex will change from True to False in a future version.\n",
      "  train_data['reviews'] = train_data['reviews'].str.replace(\"[^ㄱ-ㅎㅏ-ㅣ가-힣 ]\",\"\")\n",
      "C:\\Users\\jeonj\\AppData\\Local\\Temp\\ipykernel_15440\\1071252944.py:51: FutureWarning: The default value of regex will change from True to False in a future version.\n",
      "  test_data['reviews'] = test_data['reviews'].str.replace(\"[^ㄱ-ㅎㅏ-ㅣ가-힣 ]\",\"\")\n"
     ]
    },
    {
     "name": "stdout",
     "output_type": "stream",
     "text": [
      "단어 집합(vocabulary)의 크기 : 39741\n",
      "등장 빈도가 1번 이하인 희귀 단어의 수: 18056\n",
      "단어 집합에서 희귀 단어의 비율: 45.43418635665937\n",
      "전체 등장 빈도에서 희귀 단어 등장 빈도 비율: 0.7869324583053495\n",
      "단어 집합의 크기 : 21687\n",
      "전체 샘플 중 길이가 80 이하인 샘플의 비율: 99.99933302652553\n",
      "Epoch 1/15\n",
      "1873/1875 [============================>.] - ETA: 0s - loss: 0.2705 - acc: 0.8984\n",
      "Epoch 1: val_acc improved from -inf to 0.91743, saving model to best_model.h5\n",
      "1875/1875 [==============================] - 43s 18ms/step - loss: 0.2704 - acc: 0.8985 - val_loss: 0.2264 - val_acc: 0.9174\n",
      "Epoch 2/15\n",
      "1873/1875 [============================>.] - ETA: 0s - loss: 0.2147 - acc: 0.9223\n",
      "Epoch 2: val_acc improved from 0.91743 to 0.92257, saving model to best_model.h5\n",
      "1875/1875 [==============================] - 30s 16ms/step - loss: 0.2147 - acc: 0.9223 - val_loss: 0.2137 - val_acc: 0.9226\n",
      "Epoch 3/15\n",
      "1873/1875 [============================>.] - ETA: 0s - loss: 0.1984 - acc: 0.9292\n",
      "Epoch 3: val_acc improved from 0.92257 to 0.92687, saving model to best_model.h5\n",
      "1875/1875 [==============================] - 30s 16ms/step - loss: 0.1984 - acc: 0.9292 - val_loss: 0.2047 - val_acc: 0.9269\n",
      "Epoch 4/15\n",
      "1875/1875 [==============================] - ETA: 0s - loss: 0.1880 - acc: 0.9328\n",
      "Epoch 4: val_acc did not improve from 0.92687\n",
      "1875/1875 [==============================] - 30s 16ms/step - loss: 0.1880 - acc: 0.9328 - val_loss: 0.2109 - val_acc: 0.9241\n",
      "Epoch 5/15\n",
      "1873/1875 [============================>.] - ETA: 0s - loss: 0.1788 - acc: 0.9371\n",
      "Epoch 5: val_acc improved from 0.92687 to 0.92757, saving model to best_model.h5\n",
      "1875/1875 [==============================] - 29s 16ms/step - loss: 0.1788 - acc: 0.9370 - val_loss: 0.2028 - val_acc: 0.9276\n",
      "Epoch 6/15\n",
      "1874/1875 [============================>.] - ETA: 0s - loss: 0.1699 - acc: 0.9403\n",
      "Epoch 6: val_acc did not improve from 0.92757\n",
      "1875/1875 [==============================] - 30s 16ms/step - loss: 0.1700 - acc: 0.9403 - val_loss: 0.2065 - val_acc: 0.9268\n",
      "Epoch 7/15\n",
      "1872/1875 [============================>.] - ETA: 0s - loss: 0.1611 - acc: 0.9437\n",
      "Epoch 7: val_acc did not improve from 0.92757\n",
      "1875/1875 [==============================] - 29s 16ms/step - loss: 0.1611 - acc: 0.9437 - val_loss: 0.2135 - val_acc: 0.9234\n",
      "Epoch 8/15\n",
      "1874/1875 [============================>.] - ETA: 0s - loss: 0.1525 - acc: 0.9474\n",
      "Epoch 8: val_acc did not improve from 0.92757\n",
      "1875/1875 [==============================] - 30s 16ms/step - loss: 0.1525 - acc: 0.9474 - val_loss: 0.2147 - val_acc: 0.9234\n",
      "Epoch 9/15\n",
      "1875/1875 [==============================] - ETA: 0s - loss: 0.1435 - acc: 0.9501\n",
      "Epoch 9: val_acc did not improve from 0.92757\n",
      "1875/1875 [==============================] - 30s 16ms/step - loss: 0.1435 - acc: 0.9501 - val_loss: 0.2189 - val_acc: 0.9214\n",
      "Epoch 9: early stopping\n",
      "1562/1562 [==============================] - 9s 6ms/step - loss: 0.2097 - acc: 0.9247\n",
      "\n",
      " 테스트 정확도: 0.9247\n",
      "1/1 [==============================] - 0s 458ms/step\n",
      "98.17% 확률로 부정 리뷰입니다.\n"
     ]
    },
    {
     "data": {
      "text/html": [
       "<div>\n",
       "<style scoped>\n",
       "    .dataframe tbody tr th:only-of-type {\n",
       "        vertical-align: middle;\n",
       "    }\n",
       "\n",
       "    .dataframe tbody tr th {\n",
       "        vertical-align: top;\n",
       "    }\n",
       "\n",
       "    .dataframe thead th {\n",
       "        text-align: right;\n",
       "    }\n",
       "</style>\n",
       "<table border=\"1\" class=\"dataframe\">\n",
       "  <thead>\n",
       "    <tr style=\"text-align: right;\">\n",
       "      <th></th>\n",
       "      <th>Unnamed: 0</th>\n",
       "      <th>comment</th>\n",
       "      <th>star</th>\n",
       "      <th>date</th>\n",
       "    </tr>\n",
       "  </thead>\n",
       "  <tbody>\n",
       "    <tr>\n",
       "      <th>0</th>\n",
       "      <td>1</td>\n",
       "      <td>163/53 m 사이즈 딱 맞아요! 핏되게 입는 거 좋아하시면 사세요. 라지는 팔 ...</td>\n",
       "      <td>5</td>\n",
       "      <td>2022-06-16</td>\n",
       "    </tr>\n",
       "    <tr>\n",
       "      <th>1</th>\n",
       "      <td>2</td>\n",
       "      <td>흰색말고 원색컬러 티셔츠 구매하고싶어서 샀어요!ㅎㅎ 면은 정말 좋고 배송도 나름 빨...</td>\n",
       "      <td>5</td>\n",
       "      <td>2022-07-14</td>\n",
       "    </tr>\n",
       "    <tr>\n",
       "      <th>2</th>\n",
       "      <td>3</td>\n",
       "      <td>올이 다 풀려버렸습니다. 박음질 자체가 이상해요. 다른데서 구매한 건 이렇지 않았는...</td>\n",
       "      <td>1</td>\n",
       "      <td>2022-07-06</td>\n",
       "    </tr>\n",
       "    <tr>\n",
       "      <th>3</th>\n",
       "      <td>4</td>\n",
       "      <td>일요일에 주문했는데 목요일 아침에 도착했어요ㅎ 재질도 좋고 약간 루즈핏 원했는데 ,...</td>\n",
       "      <td>5</td>\n",
       "      <td>2022-07-14</td>\n",
       "    </tr>\n",
       "    <tr>\n",
       "      <th>4</th>\n",
       "      <td>5</td>\n",
       "      <td>L가 품절이라 혹시나 해서 m 샀는데 좀 타이트하네여 남자 s 사이즈엔 m은 좀 타...</td>\n",
       "      <td>5</td>\n",
       "      <td>2022-07-15</td>\n",
       "    </tr>\n",
       "    <tr>\n",
       "      <th>...</th>\n",
       "      <td>...</td>\n",
       "      <td>...</td>\n",
       "      <td>...</td>\n",
       "      <td>...</td>\n",
       "    </tr>\n",
       "    <tr>\n",
       "      <th>10833</th>\n",
       "      <td>10834</td>\n",
       "      <td>Xogko ogcocog hogo i</td>\n",
       "      <td>5</td>\n",
       "      <td>2018-07-16</td>\n",
       "    </tr>\n",
       "    <tr>\n",
       "      <th>10834</th>\n",
       "      <td>10835</td>\n",
       "      <td>Xypxcochohcocco k kh llh</td>\n",
       "      <td>5</td>\n",
       "      <td>2018-07-16</td>\n",
       "    </tr>\n",
       "    <tr>\n",
       "      <th>10835</th>\n",
       "      <td>10836</td>\n",
       "      <td>좋아요~~~~</td>\n",
       "      <td>5</td>\n",
       "      <td>2018-06-18</td>\n",
       "    </tr>\n",
       "    <tr>\n",
       "      <th>10836</th>\n",
       "      <td>10837</td>\n",
       "      <td>좋아요 \\nM 샀다가 너무 딱 맞아서 \\nXl 샀는데 편하게 잘 입네요*^</td>\n",
       "      <td>5</td>\n",
       "      <td>2022-05-13</td>\n",
       "    </tr>\n",
       "    <tr>\n",
       "      <th>10837</th>\n",
       "      <td>10838</td>\n",
       "      <td>배송이 너무 빨라서 좋았습니다\\n색상이 너무 예쁩니다\\n구하기 힘든 색상이라 너무 ...</td>\n",
       "      <td>5</td>\n",
       "      <td>2022-04-29</td>\n",
       "    </tr>\n",
       "  </tbody>\n",
       "</table>\n",
       "<p>10838 rows × 4 columns</p>\n",
       "</div>"
      ],
      "text/plain": [
       "       Unnamed: 0                                            comment  star  \\\n",
       "0               1  163/53 m 사이즈 딱 맞아요! 핏되게 입는 거 좋아하시면 사세요. 라지는 팔 ...     5   \n",
       "1               2  흰색말고 원색컬러 티셔츠 구매하고싶어서 샀어요!ㅎㅎ 면은 정말 좋고 배송도 나름 빨...     5   \n",
       "2               3  올이 다 풀려버렸습니다. 박음질 자체가 이상해요. 다른데서 구매한 건 이렇지 않았는...     1   \n",
       "3               4  일요일에 주문했는데 목요일 아침에 도착했어요ㅎ 재질도 좋고 약간 루즈핏 원했는데 ,...     5   \n",
       "4               5  L가 품절이라 혹시나 해서 m 샀는데 좀 타이트하네여 남자 s 사이즈엔 m은 좀 타...     5   \n",
       "...           ...                                                ...   ...   \n",
       "10833       10834                              Xogko ogcocog hogo i      5   \n",
       "10834       10835                          Xypxcochohcocco k kh llh      5   \n",
       "10835       10836                                            좋아요~~~~     5   \n",
       "10836       10837          좋아요 \\nM 샀다가 너무 딱 맞아서 \\nXl 샀는데 편하게 잘 입네요*^     5   \n",
       "10837       10838  배송이 너무 빨라서 좋았습니다\\n색상이 너무 예쁩니다\\n구하기 힘든 색상이라 너무 ...     5   \n",
       "\n",
       "             date  \n",
       "0      2022-06-16  \n",
       "1      2022-07-14  \n",
       "2      2022-07-06  \n",
       "3      2022-07-14  \n",
       "4      2022-07-15  \n",
       "...           ...  \n",
       "10833  2018-07-16  \n",
       "10834  2018-07-16  \n",
       "10835  2018-06-18  \n",
       "10836  2022-05-13  \n",
       "10837  2022-04-29  \n",
       "\n",
       "[10838 rows x 4 columns]"
      ]
     },
     "execution_count": 1,
     "metadata": {},
     "output_type": "execute_result"
    }
   ],
   "source": [
    "import re\n",
    "import pandas as pd\n",
    "import numpy as np\n",
    "import matplotlib.pyplot as plt\n",
    "import urllib.request\n",
    "import tensorflow as tf\n",
    "from collections import Counter\n",
    "from konlpy.tag import Mecab\n",
    "from sklearn.model_selection import train_test_split\n",
    "from tensorflow.keras.preprocessing.text import Tokenizer\n",
    "from tensorflow.keras.preprocessing.sequence import pad_sequences\n",
    "\n",
    "\n",
    "\n",
    "from tensorflow.python.client import device_lib\n",
    "device_lib.list_local_devices()\n",
    "tf.test.is_gpu_available()\n",
    "\n",
    "\n",
    "\n",
    "urllib.request.urlretrieve(\"https://raw.githubusercontent.com/bab2min/corpus/master/sentiment/naver_shopping.txt\", filename=\"ratings_total.txt\")\n",
    "\n",
    "\n",
    "\n",
    "total_data = pd.read_table('ratings_total.txt', names=['ratings', 'reviews'])\n",
    "\n",
    "\n",
    "\n",
    "total_data['label'] = np.select([total_data.ratings > 3], [1], default=0)\n",
    "\n",
    "\n",
    "\n",
    "total_data.drop_duplicates(subset=['reviews'], inplace=True)\n",
    "\n",
    "\n",
    "\n",
    "# 훈련 데이터와 테스트 데이터를 3:1 비율로 분리\n",
    "train_data, test_data = train_test_split(total_data, test_size = 0.25, random_state = 42)\n",
    "\n",
    "\n",
    "\n",
    "# 한글과 공백을 제외하고 모두 제거\n",
    "train_data['reviews'] = train_data['reviews'].str.replace(\"[^ㄱ-ㅎㅏ-ㅣ가-힣 ]\",\"\")\n",
    "train_data['reviews'].replace('', np.nan, inplace=True)\n",
    "\n",
    "\n",
    "\n",
    "# 중복 제거\n",
    "test_data.drop_duplicates(subset = ['reviews'], inplace=True) \n",
    "# 정규 표현식 수행\n",
    "test_data['reviews'] = test_data['reviews'].str.replace(\"[^ㄱ-ㅎㅏ-ㅣ가-힣 ]\",\"\") \n",
    "# 공백은 Null 값으로 변경\n",
    "test_data['reviews'].replace('', np.nan, inplace=True) \n",
    "# Null 값 제거\n",
    "test_data = test_data.dropna(how='any') \n",
    "\n",
    "\n",
    "\n",
    "from eunjeon import Mecab\n",
    "mecab = Mecab()\n",
    "\n",
    "\n",
    "\n",
    "stopwords = ['도', '는', '다', '의', '가', '이', '은', '한', '에', '하', '고', '을', '를', '인', '듯', '과', '와', '네', '들', '듯', '지', '임', '게']\n",
    "\n",
    "\n",
    "\n",
    "train_data['tokenized'] = train_data['reviews'].apply(mecab.morphs)\n",
    "train_data['tokenized'] = train_data['tokenized'].apply(lambda x: [item for item in x if item not in stopwords])\n",
    "test_data['tokenized'] = test_data['reviews'].apply(mecab.morphs)\n",
    "test_data['tokenized'] = test_data['tokenized'].apply(lambda x: [item for item in x if item not in stopwords])\n",
    "\n",
    "\n",
    "\n",
    "X_train = train_data['tokenized'].values\n",
    "y_train = train_data['label'].values\n",
    "X_test= test_data['tokenized'].values\n",
    "y_test = test_data['label'].values\n",
    "\n",
    "\n",
    "\n",
    "# 기계가 텍스트를 숫자로 처리할 수 있도록 훈련 데이터와 텍스트 데이터에 정수 인코딩 수행\n",
    "\n",
    "tokenizer = Tokenizer()\n",
    "tokenizer.fit_on_texts(X_train)\n",
    "\n",
    "\n",
    "\n",
    "# 단어 집합이 생성되는 동시에 각 단어에 고유한 정수 부여\n",
    "# 등장 횟수가 1회인 단어들은 자연어 처리에서 배제\n",
    "\n",
    "threshold = 2\n",
    "total_cnt = len(tokenizer.word_index) # 단어의 수\n",
    "rare_cnt = 0 # 등장 빈도수가 threshold보다 작은 단어의 개수를 카운트\n",
    "total_freq = 0 # 훈련 데이터의 전체 단어 빈도수 총 합\n",
    "rare_freq = 0 # 등장 빈도수가 threshold보다 작은 단어의 등장 빈도수의 총 합\n",
    "\n",
    "# 단어와 빈도수의 쌍(pair)을 key와 value로 받는다.\n",
    "for key, value in tokenizer.word_counts.items():\n",
    "    total_freq = total_freq + value\n",
    "\n",
    "    # 단어의 등장 빈도수가 threshold보다 작으면\n",
    "    if(value < threshold):\n",
    "        rare_cnt = rare_cnt + 1\n",
    "        rare_freq = rare_freq + value\n",
    "\n",
    "print('단어 집합(vocabulary)의 크기 :',total_cnt)\n",
    "print('등장 빈도가 %s번 이하인 희귀 단어의 수: %s'%(threshold - 1, rare_cnt))\n",
    "print(\"단어 집합에서 희귀 단어의 비율:\", (rare_cnt / total_cnt)*100)\n",
    "print(\"전체 등장 빈도에서 희귀 단어 등장 빈도 비율:\", (rare_freq / total_freq)*100)\n",
    "\n",
    "\n",
    "\n",
    "# 단어 집합 크기를 토크나이저의 인자로 넘겨주고, 텍스트 시퀀스를 정수 시퀀스로 변환\n",
    "# 정수 인코딩 과정에서 이보다 큰 숫자가 부여된 단어들은 OOV로 변환\n",
    "\n",
    "# 전체 단어 개수 중 빈도수 2이하인 단어 개수는 제거.\n",
    "# 0번 패딩 토큰과 1번 OOV 토큰을 고려하여 +2\n",
    "vocab_size = total_cnt - rare_cnt + 2\n",
    "print('단어 집합의 크기 :',vocab_size)\n",
    "\n",
    "\n",
    "\n",
    "tokenizer = Tokenizer(vocab_size, oov_token = 'OOV') \n",
    "tokenizer.fit_on_texts(X_train)\n",
    "X_train = tokenizer.texts_to_sequences(X_train)\n",
    "X_test = tokenizer.texts_to_sequences(X_test)\n",
    "\n",
    "\n",
    "\n",
    "# 패딩\n",
    "# 서로 다른 길이의 샘플들의 길이를 동일하게 맞춰주는 작업\n",
    "\n",
    "def below_threshold_len(max_len, nested_list):\n",
    "  count = 0\n",
    "  for sentence in nested_list:\n",
    "    if(len(sentence) <= max_len):\n",
    "        count = count + 1\n",
    "  print('전체 샘플 중 길이가 %s 이하인 샘플의 비율: %s'%(max_len, (count / len(nested_list))*100))\n",
    "\n",
    "\n",
    "\n",
    "max_len = 80\n",
    "below_threshold_len(max_len, X_train)\n",
    "\n",
    "\n",
    "\n",
    "# 훈련용 리뷰의 99.99가 80이하의 길이를 가지기 때문에, 훈련용 리뷰를 길이 80으로 패딩\n",
    "\n",
    "X_train = pad_sequences(X_train, maxlen=max_len)\n",
    "X_test = pad_sequences(X_test, maxlen=max_len)\n",
    "\n",
    "\n",
    "\n",
    "# GRU로 네이버 쇼핑 리뷰 감성 분류\n",
    "\n",
    "from tensorflow.keras.layers import Embedding, Dense, GRU\n",
    "from tensorflow.keras.models import Sequential\n",
    "from tensorflow.keras.models import load_model\n",
    "from tensorflow.keras.callbacks import EarlyStopping, ModelCheckpoint\n",
    "    \n",
    "embedding_dim = 100\n",
    "hidden_units = 128\n",
    "\n",
    "model = Sequential()\n",
    "model.add(Embedding(vocab_size, embedding_dim))\n",
    "model.add(GRU(hidden_units))\n",
    "model.add(Dense(1, activation='sigmoid'))\n",
    "\n",
    "es = EarlyStopping(monitor='val_loss', mode='min', verbose=1, patience=4)\n",
    "mc = ModelCheckpoint('best_model.h5', monitor='val_acc', mode='max', verbose=1, save_best_only=True)\n",
    "\n",
    "model.compile(optimizer='rmsprop', loss='binary_crossentropy', metrics=['acc'])\n",
    "history = model.fit(X_train, y_train, epochs=15, callbacks=[es, mc], batch_size=64, validation_split=0.2)\n",
    "\n",
    "\n",
    "\n",
    "loaded_model = load_model('best_model.h5')\n",
    "print(\"\\n 테스트 정확도: %.4f\" % (loaded_model.evaluate(X_test, y_test)[1]))\n",
    "\n",
    "\n",
    "\n",
    "def sentiment_predict(new_sentence):\n",
    "  new_sentence = re.sub(r'[^ㄱ-ㅎㅏ-ㅣ가-힣 ]','', new_sentence)\n",
    "  new_sentence = mecab.morphs(new_sentence)\n",
    "  new_sentence = [word for word in new_sentence if not word in stopwords]\n",
    "  encoded = tokenizer.texts_to_sequences([new_sentence])\n",
    "  pad_new = pad_sequences(encoded, maxlen = max_len)\n",
    "\n",
    "  score = float(loaded_model.predict(pad_new))\n",
    "  if(score > 0.5):\n",
    "    print(\"{:.2f}% 확률로 긍정 리뷰입니다.\".format(score * 100))\n",
    "  else:\n",
    "    print(\"{:.2f}% 확률로 부정 리뷰입니다.\".format((1 - score) * 100))\n",
    "\n",
    "\n",
    "\n",
    "sentiment_predict(\"불친절\")\n",
    "\n",
    "\n",
    "\n",
    "data = pd.read_csv('D:\\polo_main.csv')\n",
    "\n",
    "\n",
    "\n",
    "data"
   ]
  },
  {
   "cell_type": "code",
   "execution_count": null,
   "id": "98935be8",
   "metadata": {},
   "outputs": [],
   "source": []
  },
  {
   "cell_type": "code",
   "execution_count": null,
   "id": "e3887f83",
   "metadata": {},
   "outputs": [],
   "source": []
  },
  {
   "cell_type": "code",
   "execution_count": 9,
   "id": "1138be79",
   "metadata": {},
   "outputs": [],
   "source": [
    "from gensim.models.word2vec import Word2Vec\n",
    "from tqdm import tqdm"
   ]
  },
  {
   "cell_type": "code",
   "execution_count": 2,
   "id": "4efc7659",
   "metadata": {},
   "outputs": [
    {
     "name": "stdout",
     "output_type": "stream",
     "text": [
      "False\n"
     ]
    }
   ],
   "source": [
    "print(data.isnull().values.any())"
   ]
  },
  {
   "cell_type": "code",
   "execution_count": null,
   "id": "e66d5337",
   "metadata": {},
   "outputs": [],
   "source": []
  },
  {
   "cell_type": "code",
   "execution_count": 3,
   "id": "e8d1f973",
   "metadata": {},
   "outputs": [
    {
     "name": "stderr",
     "output_type": "stream",
     "text": [
      "C:\\Users\\jeonj\\AppData\\Local\\Temp\\ipykernel_15440\\1634925288.py:1: FutureWarning: The default value of regex will change from True to False in a future version.\n",
      "  data['comment'] = data['comment'].str.replace(\"[^ㄱ-ㅎㅏ-ㅣ가-힣 ]\",\"\")\n"
     ]
    }
   ],
   "source": [
    "data['comment'] = data['comment'].str.replace(\"[^ㄱ-ㅎㅏ-ㅣ가-힣 ]\",\"\")"
   ]
  },
  {
   "cell_type": "code",
   "execution_count": null,
   "id": "92e04c9a",
   "metadata": {},
   "outputs": [],
   "source": []
  },
  {
   "cell_type": "code",
   "execution_count": 4,
   "id": "0398887f",
   "metadata": {},
   "outputs": [],
   "source": [
    "stopwords = ['의','가','이','은','들','는','좀','잘','걍','과','도','를','으로','자','에','와','한','하다']"
   ]
  },
  {
   "cell_type": "code",
   "execution_count": 14,
   "id": "1e9ad5bb",
   "metadata": {},
   "outputs": [
    {
     "data": {
      "text/plain": [
       "0          사이즈 딱 맞아요 핏되게 입는 거 좋아하시면 사세요 라지는 팔 길이가 길어 보이...\n",
       "1        흰색말고 원색컬러 티셔츠 구매하고싶어서 샀어요ㅎㅎ 면은 정말 좋고 배송도 나름 빨랐...\n",
       "2        올이 다 풀려버렸습니다 박음질 자체가 이상해요 다른데서 구매한 건 이렇지 않았는데 ...\n",
       "3        일요일에 주문했는데 목요일 아침에 도착했어요ㅎ 재질도 좋고 약간 루즈핏 원했는데 원...\n",
       "4        가 품절이라 혹시나 해서  샀는데 좀 타이트하네여 남자  사이즈엔 은 좀 타이틀하게...\n",
       "                               ...                        \n",
       "10833                                                     \n",
       "10834                                                     \n",
       "10835                                                  좋아요\n",
       "10836                     좋아요  샀다가 너무 딱 맞아서  샀는데 편하게 잘 입네요\n",
       "10837      배송이 너무 빨라서 좋았습니다색상이 너무 예쁩니다구하기 힘든 색상이라 너무 만족합니다\n",
       "Name: comment, Length: 10838, dtype: object"
      ]
     },
     "execution_count": 14,
     "metadata": {},
     "output_type": "execute_result"
    }
   ],
   "source": [
    "data['comment']"
   ]
  },
  {
   "cell_type": "code",
   "execution_count": 16,
   "id": "fc57d040",
   "metadata": {},
   "outputs": [
    {
     "name": "stderr",
     "output_type": "stream",
     "text": [
      "100%|█████████████████████████████████████████████████████████████████████████████████████| 10838/10838 [00:00<00:00, 16324.47it/s]\n"
     ]
    }
   ],
   "source": [
    "tokenized_data = []\n",
    "for sentence in tqdm(data['comment']):\n",
    "    tokenized_sentence = mecab.morphs(sentence) # 토큰화\n",
    "    stopwords_removed_sentence = [word for word in tokenized_sentence if not word in stopwords] # 불용어 제거\n",
    "    tokenized_data.append(stopwords_removed_sentence)"
   ]
  },
  {
   "cell_type": "code",
   "execution_count": null,
   "id": "17db1bd3",
   "metadata": {},
   "outputs": [],
   "source": []
  },
  {
   "cell_type": "code",
   "execution_count": 18,
   "id": "a0e1ec2f",
   "metadata": {},
   "outputs": [
    {
     "name": "stdout",
     "output_type": "stream",
     "text": [
      "리뷰의 최대 길이 : 375\n",
      "리뷰의 평균 길이 : 13.168389001660824\n"
     ]
    },
    {
     "data": {
      "image/png": "[encoded data removed]",
      "text/plain": [
       "<Figure size 432x288 with 1 Axes>"
      ]
     },
     "metadata": {
      "needs_background": "light"
     },
     "output_type": "display_data"
    }
   ],
   "source": [
    "print('리뷰의 최대 길이 :',max(len(review) for review in tokenized_data))\n",
    "print('리뷰의 평균 길이 :',sum(map(len, tokenized_data))/len(tokenized_data))\n",
    "plt.hist([len(review) for review in tokenized_data], bins=50)\n",
    "plt.xlabel('length of samples')\n",
    "plt.ylabel('number of samples')\n",
    "plt.show()"
   ]
  },
  {
   "cell_type": "code",
   "execution_count": null,
   "id": "e52083c5",
   "metadata": {},
   "outputs": [],
   "source": []
  },
  {
   "cell_type": "code",
   "execution_count": 23,
   "id": "05a38602",
   "metadata": {},
   "outputs": [],
   "source": [
    "from gensim.models import Word2Vec\n",
    "\n",
    "model = Word2Vec(sentences = tokenized_data, vector_size = 100, window = 5, min_count = 5, workers = 4, sg = 0)"
   ]
  },
  {
   "cell_type": "code",
   "execution_count": null,
   "id": "8d272478",
   "metadata": {},
   "outputs": [],
   "source": []
  },
  {
   "cell_type": "code",
   "execution_count": 24,
   "id": "24748e28",
   "metadata": {},
   "outputs": [
    {
     "data": {
      "text/plain": [
       "(1502, 100)"
      ]
     },
     "execution_count": 24,
     "metadata": {},
     "output_type": "execute_result"
    }
   ],
   "source": [
    "model.wv.vectors.shape"
   ]
  },
  {
   "cell_type": "code",
   "execution_count": null,
   "id": "86bdca9a",
   "metadata": {},
   "outputs": [],
   "source": []
  },
  {
   "cell_type": "code",
   "execution_count": 34,
   "id": "4c6925e5",
   "metadata": {},
   "outputs": [
    {
     "name": "stdout",
     "output_type": "stream",
     "text": [
      "[('전체', 0.8859522938728333), ('당', 0.8825482726097107), ('적', 0.8796529769897461), ('수고', 0.8729549050331116), ('드립니다', 0.8721521496772766), ('드려요', 0.8706172108650208), ('드리', 0.8696132302284241), ('단정', 0.86883944272995), ('당해', 0.8673174977302551), ('편한', 0.8663418292999268)]\n"
     ]
    }
   ],
   "source": [
    "print(model.wv.most_similar(\"추천\"))"
   ]
  }
 ],
 "metadata": {
  "kernelspec": {
   "display_name": "Python 3 (ipykernel)",
   "language": "python",
   "name": "python3"
  },
  "language_info": {
   "codemirror_mode": {
    "name": "ipython",
    "version": 3
   },
   "file_extension": ".py",
   "mimetype": "text/x-python",
   "name": "python",
   "nbconvert_exporter": "python",
   "pygments_lexer": "ipython3",
   "version": "3.9.12"
  }
 },
 "nbformat": 4,
 "nbformat_minor": 5
}
