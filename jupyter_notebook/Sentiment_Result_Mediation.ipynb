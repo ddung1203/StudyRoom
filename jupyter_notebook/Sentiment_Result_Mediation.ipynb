{
 "cells": [
  {
   "cell_type": "markdown",
   "id": "a46525ef",
   "metadata": {},
   "source": [
    "# 모호한 댓글의 감성분석"
   ]
  },
  {
   "cell_type": "markdown",
   "id": "e8c38f0c",
   "metadata": {},
   "source": []
  },
  {
   "cell_type": "markdown",
   "id": "2de32146",
   "metadata": {},
   "source": [
    "#### 모호한 결과 사용자 조정"
   ]
  },
  {
   "cell_type": "code",
   "execution_count": null,
   "id": "89b9113c",
   "metadata": {},
   "outputs": [],
   "source": [
    "def sentiment_adjustment_manual(new_sentence, i):\n",
    "  ns = new_sentence\n",
    "  new_sentence = re.sub(r'[^ㄱ-ㅎㅏ-ㅣ가-힣 ]','', new_sentence)\n",
    "  new_sentence = mecab.morphs(new_sentence)\n",
    "  new_sentence = [word for word in new_sentence if not word in stopwords]\n",
    "  encoded = tokenizer.texts_to_sequences([new_sentence])\n",
    "  pad_new = pad_sequences(encoded, maxlen = max_len)\n",
    "\n",
    "  score = float(loaded_model.predict(pad_new))\n",
    "  if(score > 0.4) & (score < 0.6):\n",
    "    print(ns)\n",
    "    print('기존 별점: ' + str(data['star'][i]))\n",
    "    new_label=input('Input Adjustment Data: ')\n",
    "    return new_label\n",
    "\n",
    "for i in range(len(data)):\n",
    "    sp = sentiment_adjustment_manual(data['comment'][i], i)\n",
    "    data['new_label'] = sp\n",
    "print('Done')"
   ]
  },
  {
   "cell_type": "code",
   "execution_count": null,
   "id": "714567da",
   "metadata": {},
   "outputs": [],
   "source": []
  },
  {
   "cell_type": "markdown",
   "id": "ef444fed",
   "metadata": {},
   "source": [
    "#### 모호한 결과 자동 조정"
   ]
  },
  {
   "cell_type": "code",
   "execution_count": null,
   "id": "ceb91e96",
   "metadata": {},
   "outputs": [],
   "source": [
    "def sentiment_adjustment_auto(new_sentence, i):\n",
    "  ns = new_sentence\n",
    "  new_sentence = re.sub(r'[^ㄱ-ㅎㅏ-ㅣ가-힣 ]','', new_sentence)\n",
    "  new_sentence = mecab.morphs(new_sentence)\n",
    "  new_sentence = [word for word in new_sentence if not word in stopwords]\n",
    "  encoded = tokenizer.texts_to_sequences([new_sentence])\n",
    "  pad_new = pad_sequences(encoded, maxlen = max_len)\n",
    "\n",
    "  score = float(loaded_model.predict(pad_new))\n",
    "  if(score > 0.4) & (score < 0.6):\n",
    "    print(ns)\n",
    "    print('기존 별점: ' + str(data['star'][i]))\n",
    "    if data['star'][i] > 3:\n",
    "        return '긍정'\n",
    "    else:\n",
    "        return '부정'\n",
    "\n",
    "for i in range(len(data)):\n",
    "    sp = sentiment_adjustment_auto(data['comment'][i], i)\n",
    "    data['new_label'] = sp\n",
    "print('Done')"
   ]
  }
 ],
 "metadata": {
  "kernelspec": {
   "display_name": "Python 3 (ipykernel)",
   "language": "python",
   "name": "python3"
  },
  "language_info": {
   "codemirror_mode": {
    "name": "ipython",
    "version": 3
   },
   "file_extension": ".py",
   "mimetype": "text/x-python",
   "name": "python",
   "nbconvert_exporter": "python",
   "pygments_lexer": "ipython3",
   "version": "3.9.12"
  }
 },
 "nbformat": 4,
 "nbformat_minor": 5
}
