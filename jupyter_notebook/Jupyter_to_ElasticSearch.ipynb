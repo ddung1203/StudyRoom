{
 "cells": [
  {
   "cell_type": "code",
   "execution_count": 403,
   "id": "365af8ce",
   "metadata": {},
   "outputs": [],
   "source": [
    "from kafka import KafkaProducer\n",
    "import json\n",
    "qwe={'positive':54,'negative':36, 'middle': 10}\n",
    "topic='jeonj'\n",
    "producer = KafkaProducer(acks=1, compression_type='gzip', bootstrap_servers=['3.38.10.106:9092','3.34.18.190:9092','13.209.146.71:9092'], value_serializer=lambda x: json.dumps(x, ensure_ascii=False).encode('utf-8'))\n",
    "producer.send(topic, value=qwe)\n",
    "producer.flush()"
   ]
  },
  {
   "cell_type": "code",
   "execution_count": null,
   "id": "dabe61c8",
   "metadata": {},
   "outputs": [],
   "source": []
  },
  {
   "cell_type": "code",
   "execution_count": null,
   "id": "e22f65bd",
   "metadata": {},
   "outputs": [],
   "source": [
    "headers = {'Content-type': 'application/json'}\n",
    "\n",
    "es = Elasticsearch('http://43.200.44.17:9200', headers = headers)\n",
    "\n",
    "doc={\"query\":{\"match_all\":{}}}\n",
    "res=es.search(index=\"kafka-test-2022.07.26\", body=doc, size=100)\n",
    "#print(res['hits']['hits'])\n",
    "\n",
    "# 각 문서의 `_source`필드 출력만 가능\n",
    "for doc in res['hits']['hits']:\n",
    "  print(doc['_source'])\n",
    "  tmp=tmp.append(doc['_source'],ignore_index=True)\n",
    "len(res)\n",
    "# pandas DataFrame\n",
    "print(\"----------\")\n",
    "# df = json_normalize(res['hits']['hits'])\n",
    "# print(df)"
   ]
  },
  {
   "cell_type": "code",
   "execution_count": null,
   "id": "3a5bbb1d",
   "metadata": {},
   "outputs": [],
   "source": []
  },
  {
   "cell_type": "code",
   "execution_count": 404,
   "id": "ee032dab",
   "metadata": {},
   "outputs": [],
   "source": [
    "from elasticsearch import Elasticsearch"
   ]
  },
  {
   "cell_type": "code",
   "execution_count": null,
   "id": "bfbe5fc6",
   "metadata": {},
   "outputs": [],
   "source": []
  },
  {
   "cell_type": "code",
   "execution_count": 406,
   "id": "5efbd0de",
   "metadata": {},
   "outputs": [],
   "source": []
  },
  {
   "cell_type": "code",
   "execution_count": null,
   "id": "f9958c11",
   "metadata": {},
   "outputs": [],
   "source": []
  },
  {
   "cell_type": "code",
   "execution_count": 411,
   "id": "3513a189",
   "metadata": {},
   "outputs": [],
   "source": [
    "def insertData():\n",
    "    headers = {'Content-type': 'application/json'}\n",
    "    es = Elasticsearch('http://43.200.44.17:9200', headers = headers)\n",
    "    \n",
    "    index=\"jeonj\"\n",
    "    \n",
    "    doc = {\n",
    "        \"test3\" : 10,\n",
    "        \"test4\" : 40,\n",
    "        #\"@timestamp\" : datetime.utcnow().strftime('%Y-%m-%dT%H:%M:%S.%f')[:-3] + 'Z'\n",
    "    }\n",
    "    \n",
    "    es.index(index=\"jeonj\", doc_type=\"_doc\", body=doc)"
   ]
  }
 ],
 "metadata": {
  "kernelspec": {
   "display_name": "Python 3 (ipykernel)",
   "language": "python",
   "name": "python3"
  },
  "language_info": {
   "codemirror_mode": {
    "name": "ipython",
    "version": 3
   },
   "file_extension": ".py",
   "mimetype": "text/x-python",
   "name": "python",
   "nbconvert_exporter": "python",
   "pygments_lexer": "ipython3",
   "version": "3.9.12"
  }
 },
 "nbformat": 4,
 "nbformat_minor": 5
}
