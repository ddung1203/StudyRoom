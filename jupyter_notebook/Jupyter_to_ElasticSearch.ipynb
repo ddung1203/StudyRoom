{
 "cells": [
  {
   "cell_type": "markdown",
   "id": "d7a12ca3",
   "metadata": {},
   "source": [
    "# ElasticSearch로 데이터 삽입"
   ]
  },
  {
   "cell_type": "code",
   "execution_count": null,
   "id": "70b921a6",
   "metadata": {},
   "outputs": [],
   "source": [
    "from elasticsearch import Elasticsearch\n",
    "def insertData(tokenized_comment, date, star, topic, label, new_label):\n",
    "    headers = {'Content-type': 'application/json'}\n",
    "    es = Elasticsearch('http://43.200.70.69:30000', headers = headers)\n",
    "    \n",
    "    index=\"analyzed_data\"\n",
    "    \n",
    "    doc = {\n",
    "        \"Name\": topic,\n",
    "        \"Star\": star,\n",
    "        \"Date\": date,\n",
    "        \"Word\": tokenized_comment,\n",
    "        \"Sentiment\": label,\n",
    "        \"Adjustment-sentiment\": new_label\n",
    "    }\n",
    "    \n",
    "    es.index(index=\"analyzed_data\", doc_type=\"_doc\", body=doc)\n",
    "\n",
    "\n",
    "for i in range(len(data)):\n",
    "    insertData(data['tokenized_comment'][i], data['date'][i], data['star'][i], data['topic'][i], data['label'][i], data['new_label'][i])"
   ]
  }
 ],
 "metadata": {
  "kernelspec": {
   "display_name": "Python 3 (ipykernel)",
   "language": "python",
   "name": "python3"
  },
  "language_info": {
   "codemirror_mode": {
    "name": "ipython",
    "version": 3
   },
   "file_extension": ".py",
   "mimetype": "text/x-python",
   "name": "python",
   "nbconvert_exporter": "python",
   "pygments_lexer": "ipython3",
   "version": "3.9.12"
  }
 },
 "nbformat": 4,
 "nbformat_minor": 5
}
