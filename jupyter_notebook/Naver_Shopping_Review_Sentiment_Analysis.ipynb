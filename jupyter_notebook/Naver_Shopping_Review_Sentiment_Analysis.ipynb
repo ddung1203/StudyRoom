{
 "cells": [
  {
   "cell_type": "markdown",
   "id": "189dd386",
   "metadata": {},
   "source": [
    "# 네이버 쇼핑 리뷰 감성 분류하기(Naver Shopping Review Sentiment Analysis)"
   ]
  },
  {
   "cell_type": "markdown",
   "id": "564e45b5",
   "metadata": {},
   "source": []
  },
  {
   "cell_type": "code",
   "execution_count": null,
   "id": "7fec8b32",
   "metadata": {},
   "outputs": [],
   "source": [
    "import re\n",
    "import pandas as pd\n",
    "import numpy as np\n",
    "import matplotlib.pyplot as plt\n",
    "import urllib.request\n",
    "import boto3\n",
    "from smart_open import smart_open\n",
    "from collections import Counter\n",
    "from konlpy.tag import Mecab\n",
    "from sklearn.model_selection import train_test_split\n",
    "from tensorflow.keras.preprocessing.text import Tokenizer\n",
    "from tensorflow.keras.preprocessing.sequence import pad_sequences\n",
    "from tensorflow.python.client import device_lib"
   ]
  },
  {
   "cell_type": "code",
   "execution_count": null,
   "id": "f6c94c2a",
   "metadata": {},
   "outputs": [],
   "source": []
  },
  {
   "cell_type": "markdown",
   "id": "9f31977f",
   "metadata": {},
   "source": [
    "#### GPU가 tensorflow 연산에 활용 가능한지 체크"
   ]
  },
  {
   "cell_type": "code",
   "execution_count": null,
   "id": "2207b099",
   "metadata": {},
   "outputs": [],
   "source": [
    "device_lib.list_local_devices()\n",
    "tf.test.is_gpu_available()"
   ]
  },
  {
   "cell_type": "code",
   "execution_count": null,
   "id": "8ee61309",
   "metadata": {},
   "outputs": [],
   "source": []
  },
  {
   "cell_type": "markdown",
   "id": "54bd0b9b",
   "metadata": {},
   "source": [
    "#### S3에 저장된 TXT 파일 불러오기"
   ]
  },
  {
   "cell_type": "code",
   "execution_count": null,
   "id": "9848cc37",
   "metadata": {},
   "outputs": [],
   "source": [
    "session = boto3.Session(profile_name='default')\n",
    "s3 = session.resource('s3')\n",
    "bucket = s3.Bucket('potatoes3')\n",
    "with smart_open('s3://potatoes3/naver_shopping.txt', 'rt', encoding='UTF8') as f2:\n",
    "    data=f2.read()\n",
    "\n",
    "total_data = pd.read_table('ratings_total.txt', names=['ratings', 'reviews'])"
   ]
  },
  {
   "cell_type": "code",
   "execution_count": null,
   "id": "bb3b09e3",
   "metadata": {},
   "outputs": [],
   "source": []
  },
  {
   "cell_type": "markdown",
   "id": "628365f8",
   "metadata": {},
   "source": [
    "#### 평점이 4, 5인 리뷰에는 레이블 1을, 평점이 1, 2인 리뷰에는 레이블 0을 부여"
   ]
  },
  {
   "cell_type": "code",
   "execution_count": null,
   "id": "cee13d08",
   "metadata": {},
   "outputs": [],
   "source": [
    "total_data['label'] = np.select([total_data.ratings > 3], [1], default=0)"
   ]
  },
  {
   "cell_type": "code",
   "execution_count": null,
   "id": "611d5738",
   "metadata": {},
   "outputs": [],
   "source": []
  },
  {
   "cell_type": "markdown",
   "id": "19113ea6",
   "metadata": {},
   "source": [
    "#### 각 역에 대해서 중복인 샘플 데이터 삭제"
   ]
  },
  {
   "cell_type": "code",
   "execution_count": null,
   "id": "15df9059",
   "metadata": {},
   "outputs": [],
   "source": [
    "total_data.drop_duplicates(subset=['reviews'], inplace=True)"
   ]
  },
  {
   "cell_type": "code",
   "execution_count": null,
   "id": "43c99f84",
   "metadata": {},
   "outputs": [],
   "source": []
  },
  {
   "cell_type": "markdown",
   "id": "ba974320",
   "metadata": {},
   "source": [
    "#### 훈련 데이터와 테스트 데이터를 3:1 비율로 분리"
   ]
  },
  {
   "cell_type": "code",
   "execution_count": null,
   "id": "47506b4f",
   "metadata": {},
   "outputs": [],
   "source": [
    "train_data, test_data = train_test_split(total_data, test_size = 0.25, random_state = 42)"
   ]
  },
  {
   "cell_type": "code",
   "execution_count": null,
   "id": "3c8a191c",
   "metadata": {},
   "outputs": [],
   "source": []
  },
  {
   "cell_type": "markdown",
   "id": "9fe28b44",
   "metadata": {},
   "source": [
    "#### 정규 표현식을 사용하여 한글을 제외하고 모두 제거"
   ]
  },
  {
   "cell_type": "code",
   "execution_count": null,
   "id": "97a9bc1a",
   "metadata": {},
   "outputs": [],
   "source": [
    "train_data['reviews'] = train_data['reviews'].str.replace(\"[^ㄱ-ㅎㅏ-ㅣ가-힣 ]\",\"\")\n",
    "train_data['reviews'].replace('', np.nan, inplace=True)"
   ]
  },
  {
   "cell_type": "code",
   "execution_count": null,
   "id": "76686107",
   "metadata": {},
   "outputs": [],
   "source": []
  },
  {
   "cell_type": "markdown",
   "id": "eae9d043",
   "metadata": {},
   "source": [
    "#### 테스트 데이터에 대해서도 정규 표현식을 사용하여 한글을 제외하고 모두 제거"
   ]
  },
  {
   "cell_type": "code",
   "execution_count": null,
   "id": "8b84e21e",
   "metadata": {},
   "outputs": [],
   "source": [
    "# 중복 제거\n",
    "test_data.drop_duplicates(subset = ['reviews'], inplace=True) \n",
    "# 정규 표현식 수행\n",
    "test_data['reviews'] = test_data['reviews'].str.replace(\"[^ㄱ-ㅎㅏ-ㅣ가-힣 ]\",\"\") \n",
    "# 공백은 Null 값으로 변경\n",
    "test_data['reviews'].replace('', np.nan, inplace=True) \n",
    "# Null 값 제거\n",
    "test_data = test_data.dropna(how='any')"
   ]
  },
  {
   "cell_type": "code",
   "execution_count": null,
   "id": "4224013b",
   "metadata": {},
   "outputs": [],
   "source": []
  },
  {
   "cell_type": "markdown",
   "id": "e72f8f37",
   "metadata": {},
   "source": [
    "#### 불용어를 지정하여 훈련 데이터와 테스트 데이터 내 필요없는 토큰들을 제거"
   ]
  },
  {
   "cell_type": "code",
   "execution_count": null,
   "id": "925d0fe4",
   "metadata": {},
   "outputs": [],
   "source": [
    "#형태소 분석기 Mecab\n",
    "from eunjeon import Mecab\n",
    "mecab = Mecab()\n",
    "\n",
    "stopwords = ['도', '는', '다', '의', '가', '이', '은', '한', '에', '하', '고', '을', '를', '인', '듯', '과', '와', '네', '들', '듯', '지', '임', '게']\n",
    "\n",
    "train_data['tokenized'] = train_data['reviews'].apply(mecab.morphs)\n",
    "train_data['tokenized'] = train_data['tokenized'].apply(lambda x: [item for item in x if item not in stopwords])\n",
    "test_data['tokenized'] = test_data['reviews'].apply(mecab.morphs)\n",
    "test_data['tokenized'] = test_data['tokenized'].apply(lambda x: [item for item in x if item not in stopwords])\n",
    "\n",
    "X_train = train_data['tokenized'].values\n",
    "y_train = train_data['label'].values\n",
    "X_test= test_data['tokenized'].values\n",
    "y_test = test_data['label'].values"
   ]
  },
  {
   "cell_type": "code",
   "execution_count": null,
   "id": "ab52d44e",
   "metadata": {},
   "outputs": [],
   "source": []
  },
  {
   "cell_type": "markdown",
   "id": "35b13d32",
   "metadata": {},
   "source": [
    "#### 기계가 텍스트를 숫자로 처리할 수 있도록 훈련 데이터와 텍스트 데이터에 정수 인코딩 수행"
   ]
  },
  {
   "cell_type": "code",
   "execution_count": null,
   "id": "ef8ef13a",
   "metadata": {},
   "outputs": [],
   "source": [
    "tokenizer = Tokenizer()\n",
    "tokenizer.fit_on_texts(X_train)"
   ]
  },
  {
   "cell_type": "code",
   "execution_count": null,
   "id": "6c8961dc",
   "metadata": {},
   "outputs": [],
   "source": []
  },
  {
   "cell_type": "code",
   "execution_count": null,
   "id": "9bbe2102",
   "metadata": {},
   "outputs": [],
   "source": [
    "# 단어 집합이 생성되는 동시에 각 단어에 고유한 정수 부여\n",
    "# 등장 횟수가 1회인 단어들은 자연어 처리에서 배제\n",
    "\n",
    "threshold = 2\n",
    "total_cnt = len(tokenizer.word_index) # 단어의 수\n",
    "rare_cnt = 0 # 등장 빈도수가 threshold보다 작은 단어의 개수를 카운트\n",
    "total_freq = 0 # 훈련 데이터의 전체 단어 빈도수 총 합\n",
    "rare_freq = 0 # 등장 빈도수가 threshold보다 작은 단어의 등장 빈도수의 총 합\n",
    "\n",
    "# 단어와 빈도수의 쌍(pair)을 key와 value로 받는다.\n",
    "for key, value in tokenizer.word_counts.items():\n",
    "    total_freq = total_freq + value\n",
    "\n",
    "    # 단어의 등장 빈도수가 threshold보다 작으면\n",
    "    if(value < threshold):\n",
    "        rare_cnt = rare_cnt + 1\n",
    "        rare_freq = rare_freq + value\n",
    "\n",
    "print('단어 집합(vocabulary)의 크기 :',total_cnt)\n",
    "print('등장 빈도가 %s번 이하인 희귀 단어의 수: %s'%(threshold - 1, rare_cnt))\n",
    "print(\"단어 집합에서 희귀 단어의 비율:\", (rare_cnt / total_cnt)*100)\n",
    "print(\"전체 등장 빈도에서 희귀 단어 등장 빈도 비율:\", (rare_freq / total_freq)*100)"
   ]
  },
  {
   "cell_type": "code",
   "execution_count": null,
   "id": "0a7f11db",
   "metadata": {},
   "outputs": [],
   "source": []
  },
  {
   "cell_type": "markdown",
   "id": "475cd77c",
   "metadata": {},
   "source": [
    "#### 단어 집합 크기를 토크나이저의 인자로 넘겨주고, 텍스트 시퀀스를 정수 시퀀스로 변환\n",
    "#### 정수 인코딩 과정에서 이보다 큰 숫자가 부여된 단어들은 OOV로 변환"
   ]
  },
  {
   "cell_type": "code",
   "execution_count": null,
   "id": "171f85bb",
   "metadata": {},
   "outputs": [],
   "source": [
    "# 전체 단어 개수 중 빈도수 2이하인 단어 개수는 제거.\n",
    "# 0번 패딩 토큰과 1번 OOV 토큰을 고려하여 +2\n",
    "vocab_size = total_cnt - rare_cnt + 2\n",
    "print('단어 집합의 크기 :',vocab_size)\n",
    "\n",
    "tokenizer = Tokenizer(vocab_size, oov_token = 'OOV') \n",
    "tokenizer.fit_on_texts(X_train)\n",
    "X_train = tokenizer.texts_to_sequences(X_train)\n",
    "X_test = tokenizer.texts_to_sequences(X_test)"
   ]
  },
  {
   "cell_type": "code",
   "execution_count": null,
   "id": "f37bbc4f",
   "metadata": {},
   "outputs": [],
   "source": []
  },
  {
   "cell_type": "markdown",
   "id": "efa47ca4",
   "metadata": {},
   "source": [
    "#### 패딩\n",
    "#### 서로 다른 길이의 샘플들의 길이를 동일하게 맞춰주는 작업"
   ]
  },
  {
   "cell_type": "code",
   "execution_count": null,
   "id": "7aacfe62",
   "metadata": {},
   "outputs": [],
   "source": [
    "def below_threshold_len(max_len, nested_list):\n",
    "  count = 0\n",
    "  for sentence in nested_list:\n",
    "    if(len(sentence) <= max_len):\n",
    "        count = count + 1\n",
    "  print('전체 샘플 중 길이가 %s 이하인 샘플의 비율: %s'%(max_len, (count / len(nested_list))*100))\n",
    "\n",
    "max_len = 80\n",
    "below_threshold_len(max_len, X_train)\n",
    "\n",
    "\n",
    "\n",
    "# 훈련용 리뷰의 99.99가 80이하의 길이를 가지기 때문에, 훈련용 리뷰를 길이 80으로 패딩\n",
    "X_train = pad_sequences(X_train, maxlen=max_len)\n",
    "X_test = pad_sequences(X_test, maxlen=max_len)"
   ]
  },
  {
   "cell_type": "code",
   "execution_count": null,
   "id": "97548938",
   "metadata": {},
   "outputs": [],
   "source": []
  },
  {
   "cell_type": "markdown",
   "id": "e7d9bd68",
   "metadata": {},
   "source": [
    "GRU로 네이버 쇼핑 리뷰 감성 분류\n",
    "하이퍼파라미터인 임베딩 백터의 차원은 100, 은닉 상태의 크기는 128이다. 모델은 다대일 구조의 LSTM을 사용한다.\n",
    "해당 모델은 마지막 시점에서 두 개의 선택지 중 하나를 예측하는 이진 분류 문제를 수행하는 모델이다.\n",
    "이진 분류 문제의 경우, 출력층에 로지스틱 회귀를 사용해야 하므로 활성화 함수로는 시그모이드 함수를 사용하고, 손실 함수로 크로스 엔트로피 함수를 사용한다.\n",
    "하이퍼파라미터인 배치 크기는 64이며, 15 에포크를 수행한다.\n",
    "\n",
    "EarlyStopping은 검증 데이터 손실이 증가하면, 과적합 징후이므로 검증 데이터 손실이 4회 증가하면 정해진 에포크가 도달하지 못하였더라도 학습을 조기 종료한다는 의미이다.\n",
    "ModelCheckpoint를 사용하여 검증 데이터의 정확도가 이전보다 좋아질 경우에만 모델을 저장한다.\n",
    "validation_split=0.2을 사용하여 훈련 데이터의 20%를 검증 데이터로 분리해서 사용하고, 검증 데이터를 통해서 훈련이 적절히 되고 있는지 확인한다.\n",
    "검증 데이터는 기계가 훈련 데이터에 과적합되고 있는지 않은지 확인하기 위한 용도로 사용된다."
   ]
  },
  {
   "cell_type": "code",
   "execution_count": null,
   "id": "b1a43cc2",
   "metadata": {},
   "outputs": [],
   "source": [
    "from tensorflow.keras.layers import Embedding, Dense, GRU\n",
    "from tensorflow.keras.models import Sequential\n",
    "from tensorflow.keras.models import load_model\n",
    "from tensorflow.keras.callbacks import EarlyStopping, ModelCheckpoint\n",
    "    \n",
    "embedding_dim = 100\n",
    "hidden_units = 128\n",
    "\n",
    "model = Sequential()\n",
    "model.add(Embedding(vocab_size, embedding_dim))\n",
    "model.add(GRU(hidden_units))\n",
    "model.add(Dense(1, activation='sigmoid'))\n",
    "\n",
    "es = EarlyStopping(monitor='val_loss', mode='min', verbose=1, patience=4)\n",
    "mc = ModelCheckpoint('best_model.h5', monitor='val_acc', mode='max', verbose=1, save_best_only=True)\n",
    "\n",
    "model.compile(optimizer='rmsprop', loss='binary_crossentropy', metrics=['acc'])\n",
    "history = model.fit(X_train, y_train, epochs=15, callbacks=[es, mc], batch_size=64, validation_split=0.2)\n",
    "\n",
    "\n",
    "\n",
    "loaded_model = load_model('best_model.h5')\n",
    "print(\"\\n 테스트 정확도: %.4f\" % (loaded_model.evaluate(X_test, y_test)[1]))\n",
    "\n",
    "\n",
    "# 임의의 문장에 대한 예측을 위해서는 학습하기 전 전처리를 동일하게 적용해준다. 전처리의 순서는 정규 표현식을 통한 한국어 외 문자 제거, 토큰화, 불용어 제거, 정수 인코딩, 패딩 순이다.\n",
    "def sentiment_predict(new_sentence):\n",
    "  new_sentence = re.sub(r'[^ㄱ-ㅎㅏ-ㅣ가-힣 ]','', new_sentence)\n",
    "  new_sentence = mecab.morphs(new_sentence)\n",
    "  new_sentence = [word for word in new_sentence if not word in stopwords]\n",
    "  encoded = tokenizer.texts_to_sequences([new_sentence])\n",
    "  pad_new = pad_sequences(encoded, maxlen = max_len)\n",
    "\n",
    "  score = float(loaded_model.predict(pad_new))\n",
    "  if(score > 0.5):\n",
    "    print(\"{:.2f}% 확률로 긍정 리뷰입니다.\".format(score * 100))\n",
    "    return 1\n",
    "  else:\n",
    "    print(\"{:.2f}% 확률로 부정 리뷰입니다.\".format((1 - score) * 100))\n",
    "    return 0"
   ]
  },
  {
   "cell_type": "raw",
   "id": "76c303c3",
   "metadata": {},
   "source": [
    "단어 집합(vocabulary)의 크기 : 39741\n",
    "등장 빈도가 1번 이하인 희귀 단어의 수: 18056\n",
    "단어 집합에서 희귀 단어의 비율: 45.43418635665937\n",
    "전체 등장 빈도에서 희귀 단어 등장 빈도 비율: 0.7869324583053495\n",
    "단어 집합의 크기 : 21687\n",
    "전체 샘플 중 길이가 80 이하인 샘플의 비율: 99.99933302652553\n",
    "Epoch 1/15\n",
    "1873/1875 [============================>.] - ETA: 0s - loss: 0.2698 - acc: 0.8983\n",
    "Epoch 1: val_acc improved from -inf to 0.90576, saving model to best_model.h5\n",
    "1875/1875 [==============================] - 45s 19ms/step - loss: 0.2697 - acc: 0.8984 - val_loss: 0.2489 - val_acc: 0.9058\n",
    "Epoch 2/15\n",
    "1875/1875 [==============================] - ETA: 0s - loss: 0.2138 - acc: 0.9228\n",
    "Epoch 2: val_acc improved from 0.90576 to 0.92307, saving model to best_model.h5\n",
    "1875/1875 [==============================] - 33s 18ms/step - loss: 0.2138 - acc: 0.9228 - val_loss: 0.2133 - val_acc: 0.9231\n",
    "Epoch 3/15\n",
    "1874/1875 [============================>.] - ETA: 0s - loss: 0.1981 - acc: 0.9288\n",
    "Epoch 3: val_acc improved from 0.92307 to 0.92787, saving model to best_model.h5\n",
    "1875/1875 [==============================] - 33s 17ms/step - loss: 0.1981 - acc: 0.9288 - val_loss: 0.2041 - val_acc: 0.9279\n",
    "Epoch 4/15\n",
    "1875/1875 [==============================] - ETA: 0s - loss: 0.1876 - acc: 0.9338\n",
    "Epoch 4: val_acc did not improve from 0.92787\n",
    "1875/1875 [==============================] - 33s 17ms/step - loss: 0.1876 - acc: 0.9338 - val_loss: 0.2097 - val_acc: 0.9268\n",
    "Epoch 5/15\n",
    "1874/1875 [============================>.] - ETA: 0s - loss: 0.1789 - acc: 0.9369\n",
    "Epoch 5: val_acc did not improve from 0.92787\n",
    "1875/1875 [==============================] - 34s 18ms/step - loss: 0.1788 - acc: 0.9369 - val_loss: 0.2024 - val_acc: 0.9278\n",
    "Epoch 6/15\n",
    "1875/1875 [==============================] - ETA: 0s - loss: 0.1703 - acc: 0.9407\n",
    "Epoch 6: val_acc did not improve from 0.92787\n",
    "1875/1875 [==============================] - 33s 18ms/step - loss: 0.1703 - acc: 0.9407 - val_loss: 0.2064 - val_acc: 0.9256\n",
    "Epoch 7/15\n",
    "1874/1875 [============================>.] - ETA: 0s - loss: 0.1614 - acc: 0.9438\n",
    "Epoch 7: val_acc did not improve from 0.92787\n",
    "1875/1875 [==============================] - 33s 18ms/step - loss: 0.1614 - acc: 0.9438 - val_loss: 0.2139 - val_acc: 0.9237\n",
    "Epoch 8/15\n",
    "1874/1875 [============================>.] - ETA: 0s - loss: 0.1528 - acc: 0.9474\n",
    "Epoch 8: val_acc did not improve from 0.92787\n",
    "1875/1875 [==============================] - 32s 17ms/step - loss: 0.1528 - acc: 0.9474 - val_loss: 0.2092 - val_acc: 0.9250\n",
    "Epoch 9/15\n",
    "1875/1875 [==============================] - ETA: 0s - loss: 0.1434 - acc: 0.9507\n",
    "Epoch 9: val_acc did not improve from 0.92787\n",
    "1875/1875 [==============================] - 31s 17ms/step - loss: 0.1434 - acc: 0.9507 - val_loss: 0.2250 - val_acc: 0.9185\n",
    "Epoch 9: early stopping\n",
    "1562/1562 [==============================] - 10s 6ms/step - loss: 0.2107 - acc: 0.9245\n",
    "\n",
    " 테스트 정확도: 0.9245"
   ]
  },
  {
   "cell_type": "code",
   "execution_count": null,
   "id": "c9f2d55f",
   "metadata": {},
   "outputs": [],
   "source": []
  },
  {
   "cell_type": "code",
   "execution_count": null,
   "id": "77e57ac7",
   "metadata": {},
   "outputs": [],
   "source": [
    "model.summary()"
   ]
  },
  {
   "cell_type": "raw",
   "id": "439e1663",
   "metadata": {},
   "source": [
    "Model: \"sequential\"\n",
    "_________________________________________________________________\n",
    " Layer (type)                Output Shape              Param #   \n",
    "=================================================================\n",
    " embedding (Embedding)       (None, None, 100)         2168700   \n",
    "                                                                 \n",
    " gru (GRU)                   (None, 128)               88320     \n",
    "                                                                 \n",
    " dense (Dense)               (None, 1)                 129       \n",
    "                                                                 \n",
    "=================================================================\n",
    "Total params: 2,257,149\n",
    "Trainable params: 2,257,149\n",
    "Non-trainable params: 0\n",
    "_________________________________________________________________"
   ]
  },
  {
   "cell_type": "code",
   "execution_count": null,
   "id": "5cca1aad",
   "metadata": {},
   "outputs": [],
   "source": []
  },
  {
   "cell_type": "code",
   "execution_count": null,
   "id": "be8f1a67",
   "metadata": {},
   "outputs": [],
   "source": [
    "plt.plot(history.history['acc'])\n",
    "plt.plot(history.history['val_acc'])\n",
    "plt.title('Accuracy')\n",
    "plt.xlabel('epoch')\n",
    "plt.ylabel('accuracy')\n",
    "plt.legend(['train', 'val'], loc='upper left')\n",
    "plt.show()"
   ]
  },
  {
   "attachments": {
    "image.png": {
     "image/png": "[encoded data removed]"
    }
   },
   "cell_type": "markdown",
   "id": "e27a5f95",
   "metadata": {},
   "source": [
    "![image.png](attachment:image.png)"
   ]
  },
  {
   "cell_type": "code",
   "execution_count": null,
   "id": "c8ec6116",
   "metadata": {},
   "outputs": [],
   "source": []
  },
  {
   "cell_type": "code",
   "execution_count": null,
   "id": "2bd63c76",
   "metadata": {},
   "outputs": [],
   "source": [
    "plt.plot(history.history['loss'])\n",
    "plt.plot(history.history['val_loss'])\n",
    "plt.title('Loss')\n",
    "plt.ylabel('loss')\n",
    "plt.xlabel('epoch')\n",
    "plt.legend(['train', 'test'], loc='upper left')\n",
    "plt.show()"
   ]
  },
  {
   "attachments": {
    "image.png": {
     "image/png": "[encoded data removed]"
    }
   },
   "cell_type": "markdown",
   "id": "b50c027c",
   "metadata": {},
   "source": [
    "![image.png](attachment:image.png)"
   ]
  },
  {
   "cell_type": "code",
   "execution_count": null,
   "id": "04118383",
   "metadata": {},
   "outputs": [],
   "source": []
  }
 ],
 "metadata": {
  "kernelspec": {
   "display_name": "Python 3 (ipykernel)",
   "language": "python",
   "name": "python3"
  },
  "language_info": {
   "codemirror_mode": {
    "name": "ipython",
    "version": 3
   },
   "file_extension": ".py",
   "mimetype": "text/x-python",
   "name": "python",
   "nbconvert_exporter": "python",
   "pygments_lexer": "ipython3",
   "version": "3.9.12"
  }
 },
 "nbformat": 4,
 "nbformat_minor": 5
}
