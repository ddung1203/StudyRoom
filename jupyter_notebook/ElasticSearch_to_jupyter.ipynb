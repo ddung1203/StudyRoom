{
 "cells": [
  {
   "cell_type": "code",
   "execution_count": 168,
   "id": "d5a9d688",
   "metadata": {},
   "outputs": [],
   "source": [
    "import pandas as pd\n",
    "from elasticsearch import Elasticsearch\n",
    "from pandas.io.json import json_normalize"
   ]
  },
  {
   "cell_type": "code",
   "execution_count": 169,
   "id": "142164ac",
   "metadata": {},
   "outputs": [],
   "source": [
    "tmp = pd.DataFrame()"
   ]
  },
  {
   "cell_type": "code",
   "execution_count": 170,
   "id": "16e841d6",
   "metadata": {
    "scrolled": true
   },
   "outputs": [
    {
     "name": "stdout",
     "output_type": "stream",
     "text": [
      "{' elapsed': '7.567129135131836', 'status': 'Success', '@timestamp': '2022-07-26T15:58:51.678Z'}\n",
      "{'star': 5, 'date': '22.07.17.', 'comment': '수영장가서 착용하려고 구맸는데 가격대비  품질이 아주 좋아요 사이즈는 생각보다 크긴한데 줄여서 착용하면 괜찮은것 같아요 대체로 만족입니다.', 'topic': 'jeonj', '@timestamp': '2022-07-26T15:58:54.915Z'}\n",
      "{'star': 5, 'date': '22.07.21.', 'comment': '배송 진짜 빨라요 어제 낮에 주문해서 오늘 낮에 받았어요\\\\n블랙이 핵빅사이즈 네이비가 빅사이즈인데\\\\n리뷰에 핵빅사이즈 엄청 크다는데 저희는 괜찮게 맞더라구요\\\\n머리둘레 59쎈치 핵빅사이즈 안커요 😅😅\\\\n냄새가 좀 나긴해서 얼른 빨아서 써야겠어요', 'topic': 'jeonj', '@timestamp': '2022-07-26T15:58:55.245Z'}\n",
      "{'star': 5, 'date': '22.07.17.', 'comment': '수영장가서 착용하려고 구맸는데 가격대비  품질이 아주 좋아요 사이즈는 생각보다 크긴한데 줄여서 착용하면 괜찮은것 같아요 대체로 만족입니다.', 'topic': 'jeonj', '@timestamp': '2022-07-26T15:58:56.212Z'}\n",
      "{'star': 5, 'date': '22.07.21.', 'comment': '배송 진짜 빨라요 어제 낮에 주문해서 오늘 낮에 받았어요\\\\n블랙이 핵빅사이즈 네이비가 빅사이즈인데\\\\n리뷰에 핵빅사이즈 엄청 크다는데 저희는 괜찮게 맞더라구요\\\\n머리둘레 59쎈치 핵빅사이즈 안커요 😅😅\\\\n냄새가 좀 나긴해서 얼른 빨아서 써야겠어요', 'topic': 'jeonj', '@timestamp': '2022-07-26T15:58:56.698Z'}\n",
      "{'star': 5, 'date': '22.07.17.', 'comment': '수영장가서 착용하려고 구맸는데 가격대비  품질이 아주 좋아요 사이즈는 생각보다 크긴한데 줄여서 착용하면 괜찮은것 같아요 대체로 만족입니다.', 'topic': 'jeonj', '@timestamp': '2022-07-26T15:58:57.454Z'}\n",
      "{'star': 1, 'date': '22.07.15.', 'comment': '모자 크기랑 재질은 마음에 드는데 무명모자의 가격 치고는 싼편도 아닌데 너무 엉성하네요 모자챙이랑 센터도 안맞고 이런걸 산걸 너무 후회 합니다.\\\\n삐뚤어도 너무 삐뚤게 박음질을 했어요', 'topic': 'jeonj', '@timestamp': '2022-07-26T15:58:57.970Z'}\n",
      "{'star': 5, 'date': '22.07.18.', 'comment': '생각보다 많이크긴한데 머리큰 신랑이 편해서 좋다합니다. 베이지보다 블랙이 사이즈가 좀더 큽니다.', 'topic': 'jeonj', '@timestamp': '2022-07-26T15:58:58.676Z'}\n",
      "{'star': 5, 'date': '22.07.22.', 'comment': '사이즈 크고 좋아요 색도 이뻐요', 'topic': 'jeonj', '@timestamp': '2022-07-26T15:58:59.198Z'}\n"
     ]
    },
    {
     "name": "stderr",
     "output_type": "stream",
     "text": [
      "C:\\Users\\jeonj\\AppData\\Local\\Temp\\ipykernel_5072\\1996567328.py:12: FutureWarning: The frame.append method is deprecated and will be removed from pandas in a future version. Use pandas.concat instead.\n",
      "  tmp=tmp.append(doc['_source'],ignore_index=True)\n",
      "C:\\Users\\jeonj\\AppData\\Local\\Temp\\ipykernel_5072\\1996567328.py:12: FutureWarning: The frame.append method is deprecated and will be removed from pandas in a future version. Use pandas.concat instead.\n",
      "  tmp=tmp.append(doc['_source'],ignore_index=True)\n",
      "C:\\Users\\jeonj\\AppData\\Local\\Temp\\ipykernel_5072\\1996567328.py:12: FutureWarning: The frame.append method is deprecated and will be removed from pandas in a future version. Use pandas.concat instead.\n",
      "  tmp=tmp.append(doc['_source'],ignore_index=True)\n",
      "C:\\Users\\jeonj\\AppData\\Local\\Temp\\ipykernel_5072\\1996567328.py:12: FutureWarning: The frame.append method is deprecated and will be removed from pandas in a future version. Use pandas.concat instead.\n",
      "  tmp=tmp.append(doc['_source'],ignore_index=True)\n",
      "C:\\Users\\jeonj\\AppData\\Local\\Temp\\ipykernel_5072\\1996567328.py:12: FutureWarning: The frame.append method is deprecated and will be removed from pandas in a future version. Use pandas.concat instead.\n",
      "  tmp=tmp.append(doc['_source'],ignore_index=True)\n",
      "C:\\Users\\jeonj\\AppData\\Local\\Temp\\ipykernel_5072\\1996567328.py:12: FutureWarning: The frame.append method is deprecated and will be removed from pandas in a future version. Use pandas.concat instead.\n",
      "  tmp=tmp.append(doc['_source'],ignore_index=True)\n",
      "C:\\Users\\jeonj\\AppData\\Local\\Temp\\ipykernel_5072\\1996567328.py:12: FutureWarning: The frame.append method is deprecated and will be removed from pandas in a future version. Use pandas.concat instead.\n",
      "  tmp=tmp.append(doc['_source'],ignore_index=True)\n",
      "C:\\Users\\jeonj\\AppData\\Local\\Temp\\ipykernel_5072\\1996567328.py:12: FutureWarning: The frame.append method is deprecated and will be removed from pandas in a future version. Use pandas.concat instead.\n",
      "  tmp=tmp.append(doc['_source'],ignore_index=True)\n",
      "C:\\Users\\jeonj\\AppData\\Local\\Temp\\ipykernel_5072\\1996567328.py:12: FutureWarning: The frame.append method is deprecated and will be removed from pandas in a future version. Use pandas.concat instead.\n",
      "  tmp=tmp.append(doc['_source'],ignore_index=True)\n",
      "C:\\Users\\jeonj\\AppData\\Local\\Temp\\ipykernel_5072\\1996567328.py:12: FutureWarning: The frame.append method is deprecated and will be removed from pandas in a future version. Use pandas.concat instead.\n",
      "  tmp=tmp.append(doc['_source'],ignore_index=True)\n"
     ]
    },
    {
     "name": "stdout",
     "output_type": "stream",
     "text": [
      "{'star': 4, 'date': '22.06.29.', 'comment': '색상 이뻐요 배송빠름\\\\n모자 안쪽 챙 부분이 살짝 우글거림 있고\\\\n볼펜 자국있지만 크게 지장없어서\\\\n그냥 사용합니다\\\\n깊어서 귀바퀴 윗부분에 모자가 닿습니다\\\\n그게 조금 불편해요\\\\n모자 상태는 괜찮습니다', 'topic': 'jeonj', '@timestamp': '2022-07-26T15:59:00.038Z'}\n",
      "{'star': 5, 'date': '22.07.22.', 'comment': '사진상봤던 디자인과는 약간 차이가있네요\\\\n크기는 넉넉하니좋습니다..모자에서 약간냄새가있네요', 'topic': 'jeonj', '@timestamp': '2022-07-26T15:59:00.455Z'}\n",
      "{'star': 5, 'date': '22.06.15.', 'comment': '이 상품을 써보고 알게된게 있음. 머리가 큰게 아니고 얼굴 면적이 넓은거였음..젝일슨...ㅋㅋ모자 품질이 가격에 비해서 너무 좋은데요? 일부 평점에서 마감 문제에 대한글이 보였는데 그건 뽑기가 잘못되었던분으로 보임. 전 상태 매우 양호합니다', 'topic': 'jeonj', '@timestamp': '2022-07-26T15:59:01.285Z'}\n",
      "{'star': 5, 'date': '22.07.04.', 'comment': '배송도 엄청 빠르고 사이즈도 잘 맞아서 완전 만족해요! 저렴한데 배송도 주문한 날 다음날 바로왔어요~\\\\n저는 전에 쓰던 것 보다 더 잘 어울리는것 같아서 기분 좋네요! 가성비 갑입니다!!\\\\n잘 쓸게요~^^', 'topic': 'jeonj', '@timestamp': '2022-07-26T15:59:01.696Z'}\n",
      "{'star': 5, 'date': '22.07.22.', 'comment': '캡모자 안 어울려도 무난하게 착용 가능해요 머리 큰 사람도 착용가능할 듯 합니다', 'topic': 'jeonj', '@timestamp': '2022-07-26T15:59:02.580Z'}\n",
      "{'star': 4, 'date': '22.07.14.', 'comment': '두상이 크고 머리숱도 많아서 웬만한 모자는 자국나고 불편해서 못쓰는데 쏙들어가서 편하게 쓸수있네요.아주 좋아요.ㅎ', 'topic': 'jeonj', '@timestamp': '2022-07-26T15:59:02.991Z'}\n",
      "{'star': 5, 'date': '22.07.19.', 'comment': '워터파크 가서 착용하려고 구매했어요.\\\\n너무 만족합니다', 'topic': 'jeonj', '@timestamp': '2022-07-26T15:59:03.782Z'}\n",
      "{'star': 1, 'date': '22.07.15.', 'comment': '너무 엉성한 모자 이정도 가격이면 시장에서 산것보단 좋을줄 알았는데 너무 아쉬워요', 'topic': 'jeonj', '@timestamp': '2022-07-26T15:59:04.203Z'}\n",
      "{'star': 5, 'date': '22.07.20.', 'comment': '한달 동안 사용했는데 너무 마음에 듭니다 다음에 또 주문할거에요', 'topic': 'jeonj', '@timestamp': '2022-07-26T15:59:05.160Z'}\n"
     ]
    },
    {
     "name": "stderr",
     "output_type": "stream",
     "text": [
      "C:\\Users\\jeonj\\AppData\\Local\\Temp\\ipykernel_5072\\1996567328.py:12: FutureWarning: The frame.append method is deprecated and will be removed from pandas in a future version. Use pandas.concat instead.\n",
      "  tmp=tmp.append(doc['_source'],ignore_index=True)\n",
      "C:\\Users\\jeonj\\AppData\\Local\\Temp\\ipykernel_5072\\1996567328.py:12: FutureWarning: The frame.append method is deprecated and will be removed from pandas in a future version. Use pandas.concat instead.\n",
      "  tmp=tmp.append(doc['_source'],ignore_index=True)\n",
      "C:\\Users\\jeonj\\AppData\\Local\\Temp\\ipykernel_5072\\1996567328.py:12: FutureWarning: The frame.append method is deprecated and will be removed from pandas in a future version. Use pandas.concat instead.\n",
      "  tmp=tmp.append(doc['_source'],ignore_index=True)\n",
      "C:\\Users\\jeonj\\AppData\\Local\\Temp\\ipykernel_5072\\1996567328.py:12: FutureWarning: The frame.append method is deprecated and will be removed from pandas in a future version. Use pandas.concat instead.\n",
      "  tmp=tmp.append(doc['_source'],ignore_index=True)\n",
      "C:\\Users\\jeonj\\AppData\\Local\\Temp\\ipykernel_5072\\1996567328.py:12: FutureWarning: The frame.append method is deprecated and will be removed from pandas in a future version. Use pandas.concat instead.\n",
      "  tmp=tmp.append(doc['_source'],ignore_index=True)\n",
      "C:\\Users\\jeonj\\AppData\\Local\\Temp\\ipykernel_5072\\1996567328.py:12: FutureWarning: The frame.append method is deprecated and will be removed from pandas in a future version. Use pandas.concat instead.\n",
      "  tmp=tmp.append(doc['_source'],ignore_index=True)\n",
      "C:\\Users\\jeonj\\AppData\\Local\\Temp\\ipykernel_5072\\1996567328.py:12: FutureWarning: The frame.append method is deprecated and will be removed from pandas in a future version. Use pandas.concat instead.\n",
      "  tmp=tmp.append(doc['_source'],ignore_index=True)\n",
      "C:\\Users\\jeonj\\AppData\\Local\\Temp\\ipykernel_5072\\1996567328.py:12: FutureWarning: The frame.append method is deprecated and will be removed from pandas in a future version. Use pandas.concat instead.\n",
      "  tmp=tmp.append(doc['_source'],ignore_index=True)\n",
      "C:\\Users\\jeonj\\AppData\\Local\\Temp\\ipykernel_5072\\1996567328.py:12: FutureWarning: The frame.append method is deprecated and will be removed from pandas in a future version. Use pandas.concat instead.\n",
      "  tmp=tmp.append(doc['_source'],ignore_index=True)\n"
     ]
    },
    {
     "name": "stdout",
     "output_type": "stream",
     "text": [
      "{'star': 5, 'date': '22.07.18.', 'comment': '창길고 깔끔해요 뒷부분도 이쁘구요', 'topic': 'jeonj', '@timestamp': '2022-07-26T15:59:05.422Z'}\n",
      "{'star': 5, 'date': '22.07.19.', 'comment': '파크 가서 착용하려고 구매했어요.\\\\n너무 만족합니다', 'topic': 'jeonj', '@timestamp': '2022-07-26T15:59:06.394Z'}\n",
      "{'star': 5, 'date': '22.07.24.', 'comment': '사이즈도 딱좋고 탄탄하네요 좋아요', 'topic': 'jeonj', '@timestamp': '2022-07-26T15:59:06.656Z'}\n",
      "{'star': 5, 'date': '22.06.30.', 'comment': '우선 착용감은 좋와요\\\\n장시간 써봐야 품평이 될듯해요\\\\n첫평가는 만족합니다', 'topic': 'jeonj', '@timestamp': '2022-07-26T15:59:07.603Z'}\n",
      "{'star': 5, 'date': '22.07.20.', 'comment': '워터파크같이 모자 필요할때 아무거나 챙기기용으로 가성비 좋아요', 'topic': 'jeonj', '@timestamp': '2022-07-26T15:59:07.880Z'}\n",
      "{'star': 5, 'date': '22.07.16.', 'comment': '아주 편하고 가성비 좋아요. 다시 다른 색으로 구입하고 싶어요', 'topic': 'jeonj', '@timestamp': '2022-07-26T15:59:08.822Z'}\n",
      "{'star': 5, 'date': '22.07.22.', 'comment': '가성비 짱입니다 편하게 쓰기좋아요!', 'topic': 'jeonj', '@timestamp': '2022-07-26T15:59:09.182Z'}\n",
      "{'star': 5, 'date': '22.07.22.', 'comment': '잘쓰겠습니다 감사합니다', 'topic': 'jeonj', '@timestamp': '2022-07-26T15:59:10.152Z'}\n",
      "{'star': 5, 'date': '22.07.11.', 'comment': '사이즈도 어느정도 크고 착용감과 마감처리가 좋네여 !! 다른색깔도 나중에 더 구매할 의향있습니다 😊', 'topic': 'jeonj', '@timestamp': '2022-07-26T15:59:10.436Z'}\n",
      "{'star': 4, 'date': '22.07.27.', 'comment': '상품이 깔끔하게 잘 도착했어요!', 'topic': 'jeonj', '@timestamp': '2022-07-26T15:59:11.709Z'}\n"
     ]
    },
    {
     "name": "stderr",
     "output_type": "stream",
     "text": [
      "C:\\Users\\jeonj\\AppData\\Local\\Temp\\ipykernel_5072\\1996567328.py:12: FutureWarning: The frame.append method is deprecated and will be removed from pandas in a future version. Use pandas.concat instead.\n",
      "  tmp=tmp.append(doc['_source'],ignore_index=True)\n",
      "C:\\Users\\jeonj\\AppData\\Local\\Temp\\ipykernel_5072\\1996567328.py:12: FutureWarning: The frame.append method is deprecated and will be removed from pandas in a future version. Use pandas.concat instead.\n",
      "  tmp=tmp.append(doc['_source'],ignore_index=True)\n",
      "C:\\Users\\jeonj\\AppData\\Local\\Temp\\ipykernel_5072\\1996567328.py:12: FutureWarning: The frame.append method is deprecated and will be removed from pandas in a future version. Use pandas.concat instead.\n",
      "  tmp=tmp.append(doc['_source'],ignore_index=True)\n",
      "C:\\Users\\jeonj\\AppData\\Local\\Temp\\ipykernel_5072\\1996567328.py:12: FutureWarning: The frame.append method is deprecated and will be removed from pandas in a future version. Use pandas.concat instead.\n",
      "  tmp=tmp.append(doc['_source'],ignore_index=True)\n",
      "C:\\Users\\jeonj\\AppData\\Local\\Temp\\ipykernel_5072\\1996567328.py:12: FutureWarning: The frame.append method is deprecated and will be removed from pandas in a future version. Use pandas.concat instead.\n",
      "  tmp=tmp.append(doc['_source'],ignore_index=True)\n",
      "C:\\Users\\jeonj\\AppData\\Local\\Temp\\ipykernel_5072\\1996567328.py:12: FutureWarning: The frame.append method is deprecated and will be removed from pandas in a future version. Use pandas.concat instead.\n",
      "  tmp=tmp.append(doc['_source'],ignore_index=True)\n",
      "C:\\Users\\jeonj\\AppData\\Local\\Temp\\ipykernel_5072\\1996567328.py:12: FutureWarning: The frame.append method is deprecated and will be removed from pandas in a future version. Use pandas.concat instead.\n",
      "  tmp=tmp.append(doc['_source'],ignore_index=True)\n",
      "C:\\Users\\jeonj\\AppData\\Local\\Temp\\ipykernel_5072\\1996567328.py:12: FutureWarning: The frame.append method is deprecated and will be removed from pandas in a future version. Use pandas.concat instead.\n",
      "  tmp=tmp.append(doc['_source'],ignore_index=True)\n",
      "C:\\Users\\jeonj\\AppData\\Local\\Temp\\ipykernel_5072\\1996567328.py:12: FutureWarning: The frame.append method is deprecated and will be removed from pandas in a future version. Use pandas.concat instead.\n",
      "  tmp=tmp.append(doc['_source'],ignore_index=True)\n",
      "C:\\Users\\jeonj\\AppData\\Local\\Temp\\ipykernel_5072\\1996567328.py:12: FutureWarning: The frame.append method is deprecated and will be removed from pandas in a future version. Use pandas.concat instead.\n",
      "  tmp=tmp.append(doc['_source'],ignore_index=True)\n"
     ]
    },
    {
     "name": "stdout",
     "output_type": "stream",
     "text": [
      "{'star': 4, 'date': '22.07.17.', 'comment': '생각보다 좀 크네요 머리사이즈 61인데 핵대두는 좀 크네요 참고하세요', 'topic': 'jeonj', '@timestamp': '2022-07-26T15:59:11.787Z'}\n",
      "{'star': 5, 'date': '22.07.16.', 'comment': '사이즈 정말 편하고 크게 나와서 아무 때나 써도 괜찮아요!', 'topic': 'jeonj', '@timestamp': '2022-07-26T15:59:13.022Z'}\n",
      "{'star': 5, 'date': '22.07.13.', 'comment': '너무좋아요 너모괜찮네요 재구매의사있어요', 'topic': 'jeonj', '@timestamp': '2022-07-26T15:59:13.119Z'}\n",
      "{'star': 4, 'date': '22.07.14.', 'comment': '앞쪽에 위로 튀어나온건 빼고 다 괜찮아요.\\\\n번창하세요', 'topic': 'jeonj', '@timestamp': '2022-07-26T15:59:14.408Z'}\n",
      "{'star': 5, 'date': '22.07.18.', 'comment': '깔끔하고 예뻐요.사이즈는 큰편인것같아요', 'topic': 'jeonj', '@timestamp': '2022-07-26T15:59:14.483Z'}\n",
      "{'star': 5, 'date': '22.07.16.', 'comment': '사이즈 생각보다 크게 나오고 편해요!', 'topic': 'jeonj', '@timestamp': '2022-07-26T15:59:15.728Z'}\n",
      "{'star': 4, 'date': '22.07.23.', 'comment': '기본적인 모자로 쓰기에 좋아요', 'topic': 'jeonj', '@timestamp': '2022-07-26T15:59:15.819Z'}\n",
      "{'star': 4, 'date': '22.07.14.', 'comment': '앞쪽이 볼록한건빼고 다 좋아요 번창하세요', 'topic': 'jeonj', '@timestamp': '2022-07-26T15:59:17.097Z'}\n"
     ]
    },
    {
     "name": "stderr",
     "output_type": "stream",
     "text": [
      "C:\\Users\\jeonj\\AppData\\Local\\Temp\\ipykernel_5072\\1996567328.py:12: FutureWarning: The frame.append method is deprecated and will be removed from pandas in a future version. Use pandas.concat instead.\n",
      "  tmp=tmp.append(doc['_source'],ignore_index=True)\n",
      "C:\\Users\\jeonj\\AppData\\Local\\Temp\\ipykernel_5072\\1996567328.py:12: FutureWarning: The frame.append method is deprecated and will be removed from pandas in a future version. Use pandas.concat instead.\n",
      "  tmp=tmp.append(doc['_source'],ignore_index=True)\n",
      "C:\\Users\\jeonj\\AppData\\Local\\Temp\\ipykernel_5072\\1996567328.py:12: FutureWarning: The frame.append method is deprecated and will be removed from pandas in a future version. Use pandas.concat instead.\n",
      "  tmp=tmp.append(doc['_source'],ignore_index=True)\n",
      "C:\\Users\\jeonj\\AppData\\Local\\Temp\\ipykernel_5072\\1996567328.py:12: FutureWarning: The frame.append method is deprecated and will be removed from pandas in a future version. Use pandas.concat instead.\n",
      "  tmp=tmp.append(doc['_source'],ignore_index=True)\n",
      "C:\\Users\\jeonj\\AppData\\Local\\Temp\\ipykernel_5072\\1996567328.py:12: FutureWarning: The frame.append method is deprecated and will be removed from pandas in a future version. Use pandas.concat instead.\n",
      "  tmp=tmp.append(doc['_source'],ignore_index=True)\n",
      "C:\\Users\\jeonj\\AppData\\Local\\Temp\\ipykernel_5072\\1996567328.py:12: FutureWarning: The frame.append method is deprecated and will be removed from pandas in a future version. Use pandas.concat instead.\n",
      "  tmp=tmp.append(doc['_source'],ignore_index=True)\n",
      "C:\\Users\\jeonj\\AppData\\Local\\Temp\\ipykernel_5072\\1996567328.py:12: FutureWarning: The frame.append method is deprecated and will be removed from pandas in a future version. Use pandas.concat instead.\n",
      "  tmp=tmp.append(doc['_source'],ignore_index=True)\n",
      "C:\\Users\\jeonj\\AppData\\Local\\Temp\\ipykernel_5072\\1996567328.py:12: FutureWarning: The frame.append method is deprecated and will be removed from pandas in a future version. Use pandas.concat instead.\n",
      "  tmp=tmp.append(doc['_source'],ignore_index=True)\n",
      "C:\\Users\\jeonj\\AppData\\Local\\Temp\\ipykernel_5072\\1996567328.py:12: FutureWarning: The frame.append method is deprecated and will be removed from pandas in a future version. Use pandas.concat instead.\n",
      "  tmp=tmp.append(doc['_source'],ignore_index=True)\n"
     ]
    },
    {
     "name": "stdout",
     "output_type": "stream",
     "text": [
      "{'star': 4, 'date': '22.07.10.', 'comment': '생각보다 커서 그냥 빅사이즈도 괜찮았을거같아요. 그래도 만족합니다.', 'topic': 'jeonj', '@timestamp': '2022-07-26T15:59:17.131Z'}\n",
      "{'star': 5, 'date': '22.07.20.', 'comment': '생각보다 마니 크진 않았어용\\\\n물놀이 가서 잘 썼어요', 'topic': 'jeonj', '@timestamp': '2022-07-26T15:59:18.554Z'}\n",
      "{'star': 4, 'date': '22.07.24.', 'comment': '머리가 큰 편은 아닌데 넓은 챙이 필요해서 샀어요. 그러다보니 앞에가 많이 올라가있더라구요 확실히. 그래도 챙이 넓어서 원하는 바를 얻어 좋았습니다', 'topic': 'jeonj', '@timestamp': '2022-07-26T15:59:18.557Z'}\n",
      "{'star': 5, 'date': '22.07.22.', 'comment': '100프로 아크릴로 되어있어요 사이즈 큽니다', 'topic': 'jeonj', '@timestamp': '2022-07-26T15:59:19.833Z'}\n",
      "{'star': 5, 'date': '22.07.12.', 'comment': 'BEST', 'topic': 'jeonj', '@timestamp': '2022-07-26T15:59:19.839Z'}\n",
      "{'star': 3, 'date': '22.06.23.', 'comment': '가성비좋음. 배송은빠른편. L사이즈는 그럭저럭 정사이즈. 조절되서 머리커도작아도 쓸만함. XL 사이즈는  무지막지하게큼. 너무헐렁하달까. 어지간한대두도 커버가될정도. 일반인에겐 너무커서 비추. 디자인은 정직함. 색상 사진과같음.', 'topic': 'jeonj', '@timestamp': '2022-07-26T15:59:23.163Z'}\n",
      "{'star': 5, 'date': '22.07.21.', 'comment': '생각보다 사이즈가 더 크네요! 색상 예쁘고 배송 빠릅니다 좋아요', 'topic': 'jeonj', '@timestamp': '2022-07-26T15:59:23.231Z'}\n",
      "{'star': 3, 'date': '22.06.23.', 'comment': '가성비좋음. 배송은빠른편. L사이즈는 그럭저럭 정사이즈. 조절되서 머리커도작아도 쓸만함. XL 사이즈는  무지막지하게큼. 너무헐렁하달까. 어지간한대두도 커버가될정도. 일반인에겐 너무커서 비추. 디자인은 정직함. 색상 사진과같음. .', 'topic': 'jeonj', '@timestamp': '2022-07-26T15:59:24.499Z'}\n",
      "{'star': 5, 'date': '22.07.24.', 'comment': '이쁘고 깔끔합니다.', 'topic': 'jeonj', '@timestamp': '2022-07-26T15:59:24.557Z'}\n"
     ]
    },
    {
     "name": "stderr",
     "output_type": "stream",
     "text": [
      "C:\\Users\\jeonj\\AppData\\Local\\Temp\\ipykernel_5072\\1996567328.py:12: FutureWarning: The frame.append method is deprecated and will be removed from pandas in a future version. Use pandas.concat instead.\n",
      "  tmp=tmp.append(doc['_source'],ignore_index=True)\n",
      "C:\\Users\\jeonj\\AppData\\Local\\Temp\\ipykernel_5072\\1996567328.py:12: FutureWarning: The frame.append method is deprecated and will be removed from pandas in a future version. Use pandas.concat instead.\n",
      "  tmp=tmp.append(doc['_source'],ignore_index=True)\n",
      "C:\\Users\\jeonj\\AppData\\Local\\Temp\\ipykernel_5072\\1996567328.py:12: FutureWarning: The frame.append method is deprecated and will be removed from pandas in a future version. Use pandas.concat instead.\n",
      "  tmp=tmp.append(doc['_source'],ignore_index=True)\n",
      "C:\\Users\\jeonj\\AppData\\Local\\Temp\\ipykernel_5072\\1996567328.py:12: FutureWarning: The frame.append method is deprecated and will be removed from pandas in a future version. Use pandas.concat instead.\n",
      "  tmp=tmp.append(doc['_source'],ignore_index=True)\n",
      "C:\\Users\\jeonj\\AppData\\Local\\Temp\\ipykernel_5072\\1996567328.py:12: FutureWarning: The frame.append method is deprecated and will be removed from pandas in a future version. Use pandas.concat instead.\n",
      "  tmp=tmp.append(doc['_source'],ignore_index=True)\n",
      "C:\\Users\\jeonj\\AppData\\Local\\Temp\\ipykernel_5072\\1996567328.py:12: FutureWarning: The frame.append method is deprecated and will be removed from pandas in a future version. Use pandas.concat instead.\n",
      "  tmp=tmp.append(doc['_source'],ignore_index=True)\n",
      "C:\\Users\\jeonj\\AppData\\Local\\Temp\\ipykernel_5072\\1996567328.py:12: FutureWarning: The frame.append method is deprecated and will be removed from pandas in a future version. Use pandas.concat instead.\n",
      "  tmp=tmp.append(doc['_source'],ignore_index=True)\n",
      "C:\\Users\\jeonj\\AppData\\Local\\Temp\\ipykernel_5072\\1996567328.py:12: FutureWarning: The frame.append method is deprecated and will be removed from pandas in a future version. Use pandas.concat instead.\n",
      "  tmp=tmp.append(doc['_source'],ignore_index=True)\n",
      "C:\\Users\\jeonj\\AppData\\Local\\Temp\\ipykernel_5072\\1996567328.py:12: FutureWarning: The frame.append method is deprecated and will be removed from pandas in a future version. Use pandas.concat instead.\n",
      "  tmp=tmp.append(doc['_source'],ignore_index=True)\n"
     ]
    },
    {
     "name": "stdout",
     "output_type": "stream",
     "text": [
      "{'star': 5, 'date': '22.07.05.', 'comment': '다른 친구들이 쓰던 모자를 써보면 뭔가 가발 쓰고 모자 쓴 사람마냥 붕 떠 있었는데 (머리카락 때문 아님ㅜㅠ) \\\\n이건 쏙 들어가서 좋아요', 'topic': 'jeonj', '@timestamp': '2022-07-26T15:59:25.801Z'}\n",
      "{'star': 5, 'date': '22.07.19.', 'comment': '빨리 와서 좋았어요', 'topic': 'jeonj', '@timestamp': '2022-07-26T15:59:25.833Z'}\n",
      "{'star': 5, 'date': '22.07.22.', 'comment': '색도 좋고 사이즈도 좋아요', 'topic': 'jeonj', '@timestamp': '2022-07-26T15:59:27.098Z'}\n",
      "{'star': 4, 'date': '22.07.15.', 'comment': '배송빠르게 오구  디자인 만족해요', 'topic': 'jeonj', '@timestamp': '2022-07-26T15:59:27.148Z'}\n",
      "{'star': 5, 'date': '22.07.22.', 'comment': '나름 만족하면서 쓰고있어요', 'topic': 'jeonj', '@timestamp': '2022-07-26T15:59:28.522Z'}\n",
      "{'star': 5, 'date': '22.07.12.', 'comment': '머리셋팅에 심혈을 기울이던 남편이~모자구매후 모자만 쓰고 다닙니다. 6개를 샀으니 망정이지', 'topic': 'jeonj', '@timestamp': '2022-07-26T15:59:28.713Z'}\n",
      "{'star': 5, 'date': '22.07.22.', 'comment': '나름 만족하면서 쓰고있어요', 'topic': 'jeonj', '@timestamp': '2022-07-26T15:59:29.768Z'}\n",
      "{'star': 5, 'date': '22.06.18.', 'comment': '남편머리크기가 보통사람에 비해 조금 큰편인데...^^\\\\n찾다보니 xl사이즈로 주문했도니 찰떡이었어요! 남편도 이렇게 딱맞는 모자를 태어나서 처음써봤대요!!! 모자가 헤지면 또구매할예정이에요', 'topic': 'jeonj', '@timestamp': '2022-07-26T15:59:30.245Z'}\n",
      "{'star': 5, 'date': '22.07.23.', 'comment': '너무좋은사이즈임대박', 'topic': 'jeonj', '@timestamp': '2022-07-26T15:59:31.088Z'}"
     ]
    },
    {
     "name": "stderr",
     "output_type": "stream",
     "text": [
      "C:\\Users\\jeonj\\AppData\\Local\\Temp\\ipykernel_5072\\1996567328.py:12: FutureWarning: The frame.append method is deprecated and will be removed from pandas in a future version. Use pandas.concat instead.\n",
      "  tmp=tmp.append(doc['_source'],ignore_index=True)\n",
      "C:\\Users\\jeonj\\AppData\\Local\\Temp\\ipykernel_5072\\1996567328.py:12: FutureWarning: The frame.append method is deprecated and will be removed from pandas in a future version. Use pandas.concat instead.\n",
      "  tmp=tmp.append(doc['_source'],ignore_index=True)\n",
      "C:\\Users\\jeonj\\AppData\\Local\\Temp\\ipykernel_5072\\1996567328.py:12: FutureWarning: The frame.append method is deprecated and will be removed from pandas in a future version. Use pandas.concat instead.\n",
      "  tmp=tmp.append(doc['_source'],ignore_index=True)\n",
      "C:\\Users\\jeonj\\AppData\\Local\\Temp\\ipykernel_5072\\1996567328.py:12: FutureWarning: The frame.append method is deprecated and will be removed from pandas in a future version. Use pandas.concat instead.\n",
      "  tmp=tmp.append(doc['_source'],ignore_index=True)\n",
      "C:\\Users\\jeonj\\AppData\\Local\\Temp\\ipykernel_5072\\1996567328.py:12: FutureWarning: The frame.append method is deprecated and will be removed from pandas in a future version. Use pandas.concat instead.\n",
      "  tmp=tmp.append(doc['_source'],ignore_index=True)\n",
      "C:\\Users\\jeonj\\AppData\\Local\\Temp\\ipykernel_5072\\1996567328.py:12: FutureWarning: The frame.append method is deprecated and will be removed from pandas in a future version. Use pandas.concat instead.\n",
      "  tmp=tmp.append(doc['_source'],ignore_index=True)\n",
      "C:\\Users\\jeonj\\AppData\\Local\\Temp\\ipykernel_5072\\1996567328.py:12: FutureWarning: The frame.append method is deprecated and will be removed from pandas in a future version. Use pandas.concat instead.\n",
      "  tmp=tmp.append(doc['_source'],ignore_index=True)\n",
      "C:\\Users\\jeonj\\AppData\\Local\\Temp\\ipykernel_5072\\1996567328.py:12: FutureWarning: The frame.append method is deprecated and will be removed from pandas in a future version. Use pandas.concat instead.\n",
      "  tmp=tmp.append(doc['_source'],ignore_index=True)\n",
      "C:\\Users\\jeonj\\AppData\\Local\\Temp\\ipykernel_5072\\1996567328.py:12: FutureWarning: The frame.append method is deprecated and will be removed from pandas in a future version. Use pandas.concat instead.\n",
      "  tmp=tmp.append(doc['_source'],ignore_index=True)\n"
     ]
    },
    {
     "name": "stdout",
     "output_type": "stream",
     "text": [
      "\n",
      "{'star': 5, 'date': '22.07.05.', 'comment': '가격대비 만족스러워요  끈줄이고 쓰면 딱좋아요', 'topic': 'jeonj', '@timestamp': '2022-07-26T15:59:31.530Z'}\n",
      "{'star': 4, 'date': '22.07.07.', 'comment': '심플하고 사이즈도 크고 좋네요', 'topic': 'jeonj', '@timestamp': '2022-07-26T15:59:32.429Z'}\n",
      "{'star': 4, 'date': '22.06.29.', 'comment': '빠른배송', 'topic': 'jeonj', '@timestamp': '2022-07-26T15:59:32.855Z'}\n",
      "{'star': 4, 'date': '22.07.09.', 'comment': '네 좋아요~모자가 커서\\\\n머리큰분들한테 추천드립니다', 'topic': 'jeonj', '@timestamp': '2022-07-26T15:59:33.720Z'}\n",
      "{'star': 4, 'date': '22.07.08.', 'comment': '가성비 괜찮아요~\\\\n검은색이라 무난해요~', 'topic': 'jeonj', '@timestamp': '2022-07-26T15:59:34.209Z'}\n",
      "{'star': 5, 'date': '22.07.22.', 'comment': '오른쪽이 xl 왼쪽이l  커플로쓰기 좋아요', 'topic': 'jeonj', '@timestamp': '2022-07-26T15:59:35.022Z'}\n",
      "{'star': 5, 'date': '22.06.23.', 'comment': '베이지색 모자에 마감처리 부분이 조금 미흡한거 말고는 아주 만족스러운 모자입니다\\\\n가격도 싸고 모양도 심플해서 마음이 드네요\\\\n추천합니다', 'topic': 'jeonj', '@timestamp': '2022-07-26T15:59:35.500Z'}"
     ]
    },
    {
     "name": "stderr",
     "output_type": "stream",
     "text": [
      "C:\\Users\\jeonj\\AppData\\Local\\Temp\\ipykernel_5072\\1996567328.py:12: FutureWarning: The frame.append method is deprecated and will be removed from pandas in a future version. Use pandas.concat instead.\n",
      "  tmp=tmp.append(doc['_source'],ignore_index=True)\n",
      "C:\\Users\\jeonj\\AppData\\Local\\Temp\\ipykernel_5072\\1996567328.py:12: FutureWarning: The frame.append method is deprecated and will be removed from pandas in a future version. Use pandas.concat instead.\n",
      "  tmp=tmp.append(doc['_source'],ignore_index=True)\n",
      "C:\\Users\\jeonj\\AppData\\Local\\Temp\\ipykernel_5072\\1996567328.py:12: FutureWarning: The frame.append method is deprecated and will be removed from pandas in a future version. Use pandas.concat instead.\n",
      "  tmp=tmp.append(doc['_source'],ignore_index=True)\n",
      "C:\\Users\\jeonj\\AppData\\Local\\Temp\\ipykernel_5072\\1996567328.py:12: FutureWarning: The frame.append method is deprecated and will be removed from pandas in a future version. Use pandas.concat instead.\n",
      "  tmp=tmp.append(doc['_source'],ignore_index=True)\n",
      "C:\\Users\\jeonj\\AppData\\Local\\Temp\\ipykernel_5072\\1996567328.py:12: FutureWarning: The frame.append method is deprecated and will be removed from pandas in a future version. Use pandas.concat instead.\n",
      "  tmp=tmp.append(doc['_source'],ignore_index=True)\n",
      "C:\\Users\\jeonj\\AppData\\Local\\Temp\\ipykernel_5072\\1996567328.py:12: FutureWarning: The frame.append method is deprecated and will be removed from pandas in a future version. Use pandas.concat instead.\n",
      "  tmp=tmp.append(doc['_source'],ignore_index=True)\n",
      "C:\\Users\\jeonj\\AppData\\Local\\Temp\\ipykernel_5072\\1996567328.py:12: FutureWarning: The frame.append method is deprecated and will be removed from pandas in a future version. Use pandas.concat instead.\n",
      "  tmp=tmp.append(doc['_source'],ignore_index=True)\n",
      "C:\\Users\\jeonj\\AppData\\Local\\Temp\\ipykernel_5072\\1996567328.py:12: FutureWarning: The frame.append method is deprecated and will be removed from pandas in a future version. Use pandas.concat instead.\n",
      "  tmp=tmp.append(doc['_source'],ignore_index=True)\n"
     ]
    },
    {
     "name": "stdout",
     "output_type": "stream",
     "text": [
      "\n",
      "{'star': 5, 'date': '22.07.26.', 'comment': '배송 잘 받았습니다', 'topic': 'jeonj', '@timestamp': '2022-07-26T15:59:36.369Z'}\n",
      "{'star': 5, 'date': '22.07.08.', 'comment': '다 좋은데 조금 아쉬운게 정말 대두용이라 머리 좀 크신분들이 어울리실거같아요', 'topic': 'jeonj', '@timestamp': '2022-07-26T15:59:36.786Z'}\n",
      "{'star': 5, 'date': '22.07.18.', 'comment': '감사합니다.\\\\n많이파세요', 'topic': 'jeonj', '@timestamp': '2022-07-26T15:59:37.595Z'}\n",
      "{'star': 5, 'date': '22.07.11.', 'comment': '3개주문했어요 깔끔하니 좋아요', 'topic': 'jeonj', '@timestamp': '2022-07-26T15:59:38.060Z'}\n",
      "{'star': 5, 'date': '22.07.18.', 'comment': '감사합니다.\\\\n많이파세요', 'topic': 'jeonj', '@timestamp': '2022-07-26T15:59:38.820Z'}\n",
      "{'star': 3, 'date': '22.06.23.', 'comment': '두껍고 뻣뻣하고. 재질도 글코.. 뭔가 딱 떨어지는 핏이 아니예요. 색은 괜찮아요.. 반품배송비가 모자 값이라 그냥 쓰려구요.', 'topic': 'jeonj', '@timestamp': '2022-07-26T15:59:39.293Z'}\n",
      "{'star': 4, 'date': '22.07.09.', 'comment': '사이즈가 커서 좋아요 대우인터내셔널 저한테도 크네요', 'topic': 'jeonj', '@timestamp': '2022-07-26T15:59:40.151Z'}\n",
      "{'star': 5, 'date': '22.07.11.', 'comment': '두번째 구입입니다! 감사해요!', 'topic': 'jeonj', '@timestamp': '2022-07-26T15:59:40.532Z'}\n"
     ]
    },
    {
     "name": "stderr",
     "output_type": "stream",
     "text": [
      "C:\\Users\\jeonj\\AppData\\Local\\Temp\\ipykernel_5072\\1996567328.py:12: FutureWarning: The frame.append method is deprecated and will be removed from pandas in a future version. Use pandas.concat instead.\n",
      "  tmp=tmp.append(doc['_source'],ignore_index=True)\n",
      "C:\\Users\\jeonj\\AppData\\Local\\Temp\\ipykernel_5072\\1996567328.py:12: FutureWarning: The frame.append method is deprecated and will be removed from pandas in a future version. Use pandas.concat instead.\n",
      "  tmp=tmp.append(doc['_source'],ignore_index=True)\n",
      "C:\\Users\\jeonj\\AppData\\Local\\Temp\\ipykernel_5072\\1996567328.py:12: FutureWarning: The frame.append method is deprecated and will be removed from pandas in a future version. Use pandas.concat instead.\n",
      "  tmp=tmp.append(doc['_source'],ignore_index=True)\n",
      "C:\\Users\\jeonj\\AppData\\Local\\Temp\\ipykernel_5072\\1996567328.py:12: FutureWarning: The frame.append method is deprecated and will be removed from pandas in a future version. Use pandas.concat instead.\n",
      "  tmp=tmp.append(doc['_source'],ignore_index=True)\n",
      "C:\\Users\\jeonj\\AppData\\Local\\Temp\\ipykernel_5072\\1996567328.py:12: FutureWarning: The frame.append method is deprecated and will be removed from pandas in a future version. Use pandas.concat instead.\n",
      "  tmp=tmp.append(doc['_source'],ignore_index=True)\n",
      "C:\\Users\\jeonj\\AppData\\Local\\Temp\\ipykernel_5072\\1996567328.py:12: FutureWarning: The frame.append method is deprecated and will be removed from pandas in a future version. Use pandas.concat instead.\n",
      "  tmp=tmp.append(doc['_source'],ignore_index=True)\n",
      "C:\\Users\\jeonj\\AppData\\Local\\Temp\\ipykernel_5072\\1996567328.py:12: FutureWarning: The frame.append method is deprecated and will be removed from pandas in a future version. Use pandas.concat instead.\n",
      "  tmp=tmp.append(doc['_source'],ignore_index=True)\n",
      "C:\\Users\\jeonj\\AppData\\Local\\Temp\\ipykernel_5072\\1996567328.py:12: FutureWarning: The frame.append method is deprecated and will be removed from pandas in a future version. Use pandas.concat instead.\n",
      "  tmp=tmp.append(doc['_source'],ignore_index=True)\n",
      "C:\\Users\\jeonj\\AppData\\Local\\Temp\\ipykernel_5072\\1996567328.py:12: FutureWarning: The frame.append method is deprecated and will be removed from pandas in a future version. Use pandas.concat instead.\n",
      "  tmp=tmp.append(doc['_source'],ignore_index=True)\n"
     ]
    },
    {
     "name": "stdout",
     "output_type": "stream",
     "text": [
      "{'star': 5, 'date': '22.07.22.', 'comment': '흰색은 아크릴이라 좀 싼티나요', 'topic': 'jeonj', '@timestamp': '2022-07-26T15:59:41.449Z'}\n",
      "{'star': 5, 'date': '22.07.07.', 'comment': '좋아요 사이즈적당해요', 'topic': 'jeonj', '@timestamp': '2022-07-26T15:59:41.765Z'}\n",
      "{'star': 5, 'date': '22.07.21.', 'comment': '배송도 빠르고 좋아요', 'topic': 'jeonj', '@timestamp': '2022-07-26T15:59:42.714Z'}\n",
      "{'star': 5, 'date': '22.07.22.', 'comment': '아주 좋습니다\\\\n가격도 싸고\\\\n재질 품질 다 좋아요\\\\n착용감 좋습니다', 'topic': 'jeonj', '@timestamp': '2022-07-26T15:59:42.986Z'}\n",
      "{'star': 5, 'date': '22.07.21.', 'comment': '배송도 빠르고 좋아요', 'topic': 'jeonj', '@timestamp': '2022-07-26T15:59:44.139Z'}\n",
      "{'star': 5, 'date': '22.07.11.', 'comment': \"흰색 베이지 검정'' 다유용하게잘써고다녀요\", 'topic': 'jeonj', '@timestamp': '2022-07-26T15:59:44.404Z'}\n",
      "{'star': 5, 'date': '22.07.26.', 'comment': '머리에서 캡으로 이어지는 부분이 좀더 밑으로 내려왔으면? 구렛나루쪽이 떠용', 'topic': 'jeonj', '@timestamp': '2022-07-26T15:59:45.424Z'}\n",
      "{'star': 5, 'date': '22.07.22.', 'comment': '큰사이즈가 딱이네요\\\\n잘 쓰겠습니다', 'topic': 'jeonj', '@timestamp': '2022-07-26T15:59:45.639Z'}\n",
      "{'star': 5, 'date': '22.07.04.', 'comment': '대두캡', 'topic': 'jeonj', '@timestamp': '2022-07-26T15:59:46.640Z'}\n",
      "{'star': 4, 'date': '22.07.01.', 'comment': '모자도 좋고 다 마음에 드는데   모자 안쪽에 빅사이즈볼캡은 꼭 넣으셔야 했는지...', 'topic': 'jeonj', '@timestamp': '2022-07-26T15:59:46.867Z'}\n"
     ]
    },
    {
     "name": "stderr",
     "output_type": "stream",
     "text": [
      "C:\\Users\\jeonj\\AppData\\Local\\Temp\\ipykernel_5072\\1996567328.py:12: FutureWarning: The frame.append method is deprecated and will be removed from pandas in a future version. Use pandas.concat instead.\n",
      "  tmp=tmp.append(doc['_source'],ignore_index=True)\n",
      "C:\\Users\\jeonj\\AppData\\Local\\Temp\\ipykernel_5072\\1996567328.py:12: FutureWarning: The frame.append method is deprecated and will be removed from pandas in a future version. Use pandas.concat instead.\n",
      "  tmp=tmp.append(doc['_source'],ignore_index=True)\n",
      "C:\\Users\\jeonj\\AppData\\Local\\Temp\\ipykernel_5072\\1996567328.py:12: FutureWarning: The frame.append method is deprecated and will be removed from pandas in a future version. Use pandas.concat instead.\n",
      "  tmp=tmp.append(doc['_source'],ignore_index=True)\n",
      "C:\\Users\\jeonj\\AppData\\Local\\Temp\\ipykernel_5072\\1996567328.py:12: FutureWarning: The frame.append method is deprecated and will be removed from pandas in a future version. Use pandas.concat instead.\n",
      "  tmp=tmp.append(doc['_source'],ignore_index=True)\n",
      "C:\\Users\\jeonj\\AppData\\Local\\Temp\\ipykernel_5072\\1996567328.py:12: FutureWarning: The frame.append method is deprecated and will be removed from pandas in a future version. Use pandas.concat instead.\n",
      "  tmp=tmp.append(doc['_source'],ignore_index=True)\n",
      "C:\\Users\\jeonj\\AppData\\Local\\Temp\\ipykernel_5072\\1996567328.py:12: FutureWarning: The frame.append method is deprecated and will be removed from pandas in a future version. Use pandas.concat instead.\n",
      "  tmp=tmp.append(doc['_source'],ignore_index=True)\n",
      "C:\\Users\\jeonj\\AppData\\Local\\Temp\\ipykernel_5072\\1996567328.py:12: FutureWarning: The frame.append method is deprecated and will be removed from pandas in a future version. Use pandas.concat instead.\n",
      "  tmp=tmp.append(doc['_source'],ignore_index=True)\n",
      "C:\\Users\\jeonj\\AppData\\Local\\Temp\\ipykernel_5072\\1996567328.py:12: FutureWarning: The frame.append method is deprecated and will be removed from pandas in a future version. Use pandas.concat instead.\n",
      "  tmp=tmp.append(doc['_source'],ignore_index=True)\n",
      "C:\\Users\\jeonj\\AppData\\Local\\Temp\\ipykernel_5072\\1996567328.py:12: FutureWarning: The frame.append method is deprecated and will be removed from pandas in a future version. Use pandas.concat instead.\n",
      "  tmp=tmp.append(doc['_source'],ignore_index=True)\n"
     ]
    },
    {
     "name": "stdout",
     "output_type": "stream",
     "text": [
      "{'star': 5, 'date': '22.07.15.', 'comment': '생각보다 이뻐서 좋습니다 만족하구요. ㅎㅎ', 'topic': 'jeonj', '@timestamp': '2022-07-26T15:59:47.841Z'}\n",
      "{'star': 5, 'date': '22.06.23.', 'comment': '검정색 베이지색 주문을 했는데 베이지색 모자에 창부분에 연결되는 부분이 마감처리가 좀 미흡하게 되어 있더라구요 \\\\n그걸 제외하고는 가격대비 정말 만족스러운 모자입니다\\\\n잘 쓰겠습니다', 'topic': 'jeonj', '@timestamp': '2022-07-26T15:59:48.108Z'}\n",
      "{'star': 4, 'date': '22.07.16.', 'comment': '좋은상품감사합니다\\\\n잘쓸께요~~', 'topic': 'jeonj', '@timestamp': '2022-07-26T15:59:50.616Z'}\n",
      "{'star': 5, 'date': '22.07.05.', 'comment': '마감 처리는 조금 아쉽지만 제품 불량건을 아주 빠르게 교환 처리 해주셔서 좋았습니다.', 'topic': 'jeonj', '@timestamp': '2022-07-26T15:59:51.376Z'}\n",
      "{'star': 3, 'date': '22.07.21.', 'comment': '전에 구매해서 재구매 합니다', 'topic': 'jeonj', '@timestamp': '2022-07-26T15:59:51.915Z'}\n",
      "{'star': 5, 'date': '22.07.10.', 'comment': '진짜 너무 만족해요 사이즈도 괜찮고 다음에도 또 구매하러 오겠습니다 대만족', 'topic': 'jeonj', '@timestamp': '2022-07-26T15:59:52.677Z'}\n",
      "{'star': 5, 'date': '22.07.15.', 'comment': '가성비좋아요 배송빨라요', 'topic': 'jeonj', '@timestamp': '2022-07-26T15:59:53.222Z'}\n",
      "{'star': 5, 'date': '22.07.07.', 'comment': '가격은저렴하지만물건은저렴하지않고너무좋아요', 'topic': 'jeonj', '@timestamp': '2022-07-26T15:59:53.899Z'}\n",
      "{'star': 5, 'date': '22.07.15.', 'comment': '가성비좋아요 배송빨라요', 'topic': 'jeonj', '@timestamp': '2022-07-26T15:59:54.442Z'}\n",
      "{'star': 5, 'date': '22.07.13.', 'comment': '매번 재구매중입니드', 'topic': 'jeonj', '@timestamp': '2022-07-26T15:59:55.129Z'}"
     ]
    },
    {
     "name": "stderr",
     "output_type": "stream",
     "text": [
      "C:\\Users\\jeonj\\AppData\\Local\\Temp\\ipykernel_5072\\1996567328.py:12: FutureWarning: The frame.append method is deprecated and will be removed from pandas in a future version. Use pandas.concat instead.\n",
      "  tmp=tmp.append(doc['_source'],ignore_index=True)\n",
      "C:\\Users\\jeonj\\AppData\\Local\\Temp\\ipykernel_5072\\1996567328.py:12: FutureWarning: The frame.append method is deprecated and will be removed from pandas in a future version. Use pandas.concat instead.\n",
      "  tmp=tmp.append(doc['_source'],ignore_index=True)\n",
      "C:\\Users\\jeonj\\AppData\\Local\\Temp\\ipykernel_5072\\1996567328.py:12: FutureWarning: The frame.append method is deprecated and will be removed from pandas in a future version. Use pandas.concat instead.\n",
      "  tmp=tmp.append(doc['_source'],ignore_index=True)\n",
      "C:\\Users\\jeonj\\AppData\\Local\\Temp\\ipykernel_5072\\1996567328.py:12: FutureWarning: The frame.append method is deprecated and will be removed from pandas in a future version. Use pandas.concat instead.\n",
      "  tmp=tmp.append(doc['_source'],ignore_index=True)\n",
      "C:\\Users\\jeonj\\AppData\\Local\\Temp\\ipykernel_5072\\1996567328.py:12: FutureWarning: The frame.append method is deprecated and will be removed from pandas in a future version. Use pandas.concat instead.\n",
      "  tmp=tmp.append(doc['_source'],ignore_index=True)\n",
      "C:\\Users\\jeonj\\AppData\\Local\\Temp\\ipykernel_5072\\1996567328.py:12: FutureWarning: The frame.append method is deprecated and will be removed from pandas in a future version. Use pandas.concat instead.\n",
      "  tmp=tmp.append(doc['_source'],ignore_index=True)\n",
      "C:\\Users\\jeonj\\AppData\\Local\\Temp\\ipykernel_5072\\1996567328.py:12: FutureWarning: The frame.append method is deprecated and will be removed from pandas in a future version. Use pandas.concat instead.\n",
      "  tmp=tmp.append(doc['_source'],ignore_index=True)\n",
      "C:\\Users\\jeonj\\AppData\\Local\\Temp\\ipykernel_5072\\1996567328.py:12: FutureWarning: The frame.append method is deprecated and will be removed from pandas in a future version. Use pandas.concat instead.\n",
      "  tmp=tmp.append(doc['_source'],ignore_index=True)\n",
      "C:\\Users\\jeonj\\AppData\\Local\\Temp\\ipykernel_5072\\1996567328.py:12: FutureWarning: The frame.append method is deprecated and will be removed from pandas in a future version. Use pandas.concat instead.\n",
      "  tmp=tmp.append(doc['_source'],ignore_index=True)\n"
     ]
    },
    {
     "name": "stdout",
     "output_type": "stream",
     "text": [
      "\n",
      "{'star': 5, 'date': '22.07.18.', 'comment': '깔끔하고 모자쓰면 이뻐요', 'topic': 'jeonj', '@timestamp': '2022-07-26T15:59:55.669Z'}\n",
      "{'star': 5, 'date': '22.07.10.', 'comment': '조아영 가성비 최고에연', 'topic': 'jeonj', '@timestamp': '2022-07-26T15:59:56.373Z'}\n",
      "{'star': 5, 'date': '22.07.13.', 'comment': '예뻐요 구김도 덜가고 견고하네요', 'topic': 'jeonj', '@timestamp': '2022-07-26T15:59:57.033Z'}\n",
      "{'star': 5, 'date': '22.07.08.', 'comment': '가격대비 퀄리티가 괜찮아요~', 'topic': 'jeonj', '@timestamp': '2022-07-26T15:59:57.599Z'}\n",
      "{'star': 5, 'date': '22.07.08.', 'comment': '배송도 빠르고 제품 마감도 좋아요! 잘 쓰겠습니다', 'topic': 'jeonj', '@timestamp': '2022-07-26T15:59:58.307Z'}\n",
      "{'star': 5, 'date': '22.07.08.', 'comment': '가격대비 퀄리티가 괜찮아요~', 'topic': 'jeonj', '@timestamp': '2022-07-26T15:59:58.807Z'}\n",
      "{'star': 5, 'date': '22.07.15.', 'comment': '배송이 빨라서 좋네요 잘쓰겠습니다', 'topic': 'jeonj', '@timestamp': '2022-07-26T15:59:59.548Z'}\n",
      "{'star': 5, 'date': '22.07.26.', 'comment': '머리큰 남표니 사줬어요...잘쓰고 다니네요...', 'topic': 'jeonj', '@timestamp': '2022-07-26T16:00:00.140Z'}\n",
      "{'star': 5, 'date': '22.07.15.', 'comment': '배송이 빨라서 좋네요 잘쓰겠습니다', 'topic': 'jeonj', '@timestamp': '2022-07-26T16:00:00.806Z'}\n",
      "{'star': 5, 'date': '22.06.20.', 'comment': '배송이 정발 엄청 빠르네요 이제 막 받아서 사용을 해봐야 알겠지만 일단 첫 느낌은 괜찮네요 잘 쓸게요!', 'topic': 'jeonj', '@timestamp': '2022-07-26T16:00:01.375Z'}\n",
      "{'star': 5, 'date': '22.07.20.', 'comment': '모자는 여기서만 사요', 'topic': 'jeonj', '@timestamp': '2022-07-26T16:00:02.032Z'}\n",
      "----------\n"
     ]
    },
    {
     "name": "stderr",
     "output_type": "stream",
     "text": [
      "C:\\Users\\jeonj\\AppData\\Local\\Temp\\ipykernel_5072\\1996567328.py:12: FutureWarning: The frame.append method is deprecated and will be removed from pandas in a future version. Use pandas.concat instead.\n",
      "  tmp=tmp.append(doc['_source'],ignore_index=True)\n",
      "C:\\Users\\jeonj\\AppData\\Local\\Temp\\ipykernel_5072\\1996567328.py:12: FutureWarning: The frame.append method is deprecated and will be removed from pandas in a future version. Use pandas.concat instead.\n",
      "  tmp=tmp.append(doc['_source'],ignore_index=True)\n",
      "C:\\Users\\jeonj\\AppData\\Local\\Temp\\ipykernel_5072\\1996567328.py:12: FutureWarning: The frame.append method is deprecated and will be removed from pandas in a future version. Use pandas.concat instead.\n",
      "  tmp=tmp.append(doc['_source'],ignore_index=True)\n",
      "C:\\Users\\jeonj\\AppData\\Local\\Temp\\ipykernel_5072\\1996567328.py:12: FutureWarning: The frame.append method is deprecated and will be removed from pandas in a future version. Use pandas.concat instead.\n",
      "  tmp=tmp.append(doc['_source'],ignore_index=True)\n",
      "C:\\Users\\jeonj\\AppData\\Local\\Temp\\ipykernel_5072\\1996567328.py:12: FutureWarning: The frame.append method is deprecated and will be removed from pandas in a future version. Use pandas.concat instead.\n",
      "  tmp=tmp.append(doc['_source'],ignore_index=True)\n",
      "C:\\Users\\jeonj\\AppData\\Local\\Temp\\ipykernel_5072\\1996567328.py:12: FutureWarning: The frame.append method is deprecated and will be removed from pandas in a future version. Use pandas.concat instead.\n",
      "  tmp=tmp.append(doc['_source'],ignore_index=True)\n",
      "C:\\Users\\jeonj\\AppData\\Local\\Temp\\ipykernel_5072\\1996567328.py:12: FutureWarning: The frame.append method is deprecated and will be removed from pandas in a future version. Use pandas.concat instead.\n",
      "  tmp=tmp.append(doc['_source'],ignore_index=True)\n",
      "C:\\Users\\jeonj\\AppData\\Local\\Temp\\ipykernel_5072\\1996567328.py:12: FutureWarning: The frame.append method is deprecated and will be removed from pandas in a future version. Use pandas.concat instead.\n",
      "  tmp=tmp.append(doc['_source'],ignore_index=True)\n",
      "C:\\Users\\jeonj\\AppData\\Local\\Temp\\ipykernel_5072\\1996567328.py:12: FutureWarning: The frame.append method is deprecated and will be removed from pandas in a future version. Use pandas.concat instead.\n",
      "  tmp=tmp.append(doc['_source'],ignore_index=True)\n"
     ]
    }
   ],
   "source": [
    "headers = {'Content-type': 'application/json'}\n",
    "\n",
    "es = Elasticsearch('http://43.200.44.17:9200', headers = headers)\n",
    "\n",
    "doc={\"query\":{\"match_all\":{}}}\n",
    "res=es.search(index=\"kafka-test-2022.07.26\", body=doc, size=100)\n",
    "#print(res['hits']['hits'])\n",
    "\n",
    "# 각 문서의 `_source`필드 출력만 가능\n",
    "for doc in res['hits']['hits']:\n",
    "  print(doc['_source'])\n",
    "  tmp=tmp.append(doc['_source'],ignore_index=True)\n",
    "len(res)\n",
    "# pandas DataFrame\n",
    "print(\"----------\")\n",
    "# df = json_normalize(res['hits']['hits'])\n",
    "# print(df)"
   ]
  },
  {
   "cell_type": "code",
   "execution_count": null,
   "id": "8d610eff",
   "metadata": {},
   "outputs": [],
   "source": []
  },
  {
   "cell_type": "code",
   "execution_count": 171,
   "id": "bd73d62c",
   "metadata": {},
   "outputs": [],
   "source": [
    "tmp=tmp.loc[:, ['comment', 'date', 'star', 'topic']].dropna()"
   ]
  },
  {
   "cell_type": "code",
   "execution_count": null,
   "id": "fa7f06bc",
   "metadata": {},
   "outputs": [],
   "source": []
  },
  {
   "cell_type": "code",
   "execution_count": 172,
   "id": "ac7532fb",
   "metadata": {},
   "outputs": [
    {
     "name": "stderr",
     "output_type": "stream",
     "text": [
      "C:\\Users\\jeonj\\AppData\\Local\\Temp\\ipykernel_5072\\1687264860.py:6: FutureWarning: The frame.append method is deprecated and will be removed from pandas in a future version. Use pandas.concat instead.\n",
      "  tmp_date=tmp_date.append([year, month, day]).T\n"
     ]
    }
   ],
   "source": [
    "tmp['date'] = pd.to_datetime(tmp['date'])\n",
    "tmp_date = pd.DataFrame()\n",
    "year=tmp['date'].dt.strftime('%d') # to year\n",
    "month=tmp['date'].dt.strftime('%m') # to month\n",
    "day=tmp['date'].dt.strftime('%Y').str[2:4] # to date\n",
    "tmp_date=tmp_date.append([year, month, day]).T\n",
    "tmp_date.columns = ['year', 'month', 'day']\n",
    "tmp_date['date'] = tmp_date['year']+\"-\"+tmp_date['month']+'-'+tmp_date['day']\n",
    "tmp_date=tmp_date.loc[:, ['date']]\n",
    "tmp['date']=tmp_date['date']"
   ]
  },
  {
   "cell_type": "code",
   "execution_count": null,
   "id": "21dbdba7",
   "metadata": {},
   "outputs": [],
   "source": []
  },
  {
   "cell_type": "code",
   "execution_count": 173,
   "id": "e8c02467",
   "metadata": {},
   "outputs": [],
   "source": [
    "zzz=tmp.to_json(force_ascii=False)"
   ]
  },
  {
   "cell_type": "code",
   "execution_count": 174,
   "id": "cd936140",
   "metadata": {},
   "outputs": [
    {
     "data": {
      "text/html": [
       "<div>\n",
       "<style scoped>\n",
       "    .dataframe tbody tr th:only-of-type {\n",
       "        vertical-align: middle;\n",
       "    }\n",
       "\n",
       "    .dataframe tbody tr th {\n",
       "        vertical-align: top;\n",
       "    }\n",
       "\n",
       "    .dataframe thead th {\n",
       "        text-align: right;\n",
       "    }\n",
       "</style>\n",
       "<table border=\"1\" class=\"dataframe\">\n",
       "  <thead>\n",
       "    <tr style=\"text-align: right;\">\n",
       "      <th></th>\n",
       "      <th>comment</th>\n",
       "      <th>date</th>\n",
       "      <th>star</th>\n",
       "      <th>topic</th>\n",
       "    </tr>\n",
       "  </thead>\n",
       "  <tbody>\n",
       "    <tr>\n",
       "      <th>1</th>\n",
       "      <td>수영장가서 착용하려고 구맸는데 가격대비  품질이 아주 좋아요 사이즈는 생각보다 크긴...</td>\n",
       "      <td>22-07-17</td>\n",
       "      <td>5.0</td>\n",
       "      <td>jeonj</td>\n",
       "    </tr>\n",
       "    <tr>\n",
       "      <th>2</th>\n",
       "      <td>배송 진짜 빨라요 어제 낮에 주문해서 오늘 낮에 받았어요\\n블랙이 핵빅사이즈 네이비...</td>\n",
       "      <td>22-07-21</td>\n",
       "      <td>5.0</td>\n",
       "      <td>jeonj</td>\n",
       "    </tr>\n",
       "    <tr>\n",
       "      <th>3</th>\n",
       "      <td>수영장가서 착용하려고 구맸는데 가격대비  품질이 아주 좋아요 사이즈는 생각보다 크긴...</td>\n",
       "      <td>22-07-17</td>\n",
       "      <td>5.0</td>\n",
       "      <td>jeonj</td>\n",
       "    </tr>\n",
       "    <tr>\n",
       "      <th>4</th>\n",
       "      <td>배송 진짜 빨라요 어제 낮에 주문해서 오늘 낮에 받았어요\\n블랙이 핵빅사이즈 네이비...</td>\n",
       "      <td>22-07-21</td>\n",
       "      <td>5.0</td>\n",
       "      <td>jeonj</td>\n",
       "    </tr>\n",
       "    <tr>\n",
       "      <th>5</th>\n",
       "      <td>수영장가서 착용하려고 구맸는데 가격대비  품질이 아주 좋아요 사이즈는 생각보다 크긴...</td>\n",
       "      <td>22-07-17</td>\n",
       "      <td>5.0</td>\n",
       "      <td>jeonj</td>\n",
       "    </tr>\n",
       "    <tr>\n",
       "      <th>...</th>\n",
       "      <td>...</td>\n",
       "      <td>...</td>\n",
       "      <td>...</td>\n",
       "      <td>...</td>\n",
       "    </tr>\n",
       "    <tr>\n",
       "      <th>95</th>\n",
       "      <td>배송이 빨라서 좋네요 잘쓰겠습니다</td>\n",
       "      <td>22-07-15</td>\n",
       "      <td>5.0</td>\n",
       "      <td>jeonj</td>\n",
       "    </tr>\n",
       "    <tr>\n",
       "      <th>96</th>\n",
       "      <td>머리큰 남표니 사줬어요...잘쓰고 다니네요...</td>\n",
       "      <td>22-07-26</td>\n",
       "      <td>5.0</td>\n",
       "      <td>jeonj</td>\n",
       "    </tr>\n",
       "    <tr>\n",
       "      <th>97</th>\n",
       "      <td>배송이 빨라서 좋네요 잘쓰겠습니다</td>\n",
       "      <td>22-07-15</td>\n",
       "      <td>5.0</td>\n",
       "      <td>jeonj</td>\n",
       "    </tr>\n",
       "    <tr>\n",
       "      <th>98</th>\n",
       "      <td>배송이 정발 엄청 빠르네요 이제 막 받아서 사용을 해봐야 알겠지만 일단 첫 느낌은 ...</td>\n",
       "      <td>22-06-20</td>\n",
       "      <td>5.0</td>\n",
       "      <td>jeonj</td>\n",
       "    </tr>\n",
       "    <tr>\n",
       "      <th>99</th>\n",
       "      <td>모자는 여기서만 사요</td>\n",
       "      <td>22-07-20</td>\n",
       "      <td>5.0</td>\n",
       "      <td>jeonj</td>\n",
       "    </tr>\n",
       "  </tbody>\n",
       "</table>\n",
       "<p>99 rows × 4 columns</p>\n",
       "</div>"
      ],
      "text/plain": [
       "                                              comment      date  star  topic\n",
       "1   수영장가서 착용하려고 구맸는데 가격대비  품질이 아주 좋아요 사이즈는 생각보다 크긴...  22-07-17   5.0  jeonj\n",
       "2   배송 진짜 빨라요 어제 낮에 주문해서 오늘 낮에 받았어요\\n블랙이 핵빅사이즈 네이비...  22-07-21   5.0  jeonj\n",
       "3   수영장가서 착용하려고 구맸는데 가격대비  품질이 아주 좋아요 사이즈는 생각보다 크긴...  22-07-17   5.0  jeonj\n",
       "4   배송 진짜 빨라요 어제 낮에 주문해서 오늘 낮에 받았어요\\n블랙이 핵빅사이즈 네이비...  22-07-21   5.0  jeonj\n",
       "5   수영장가서 착용하려고 구맸는데 가격대비  품질이 아주 좋아요 사이즈는 생각보다 크긴...  22-07-17   5.0  jeonj\n",
       "..                                                ...       ...   ...    ...\n",
       "95                                 배송이 빨라서 좋네요 잘쓰겠습니다  22-07-15   5.0  jeonj\n",
       "96                         머리큰 남표니 사줬어요...잘쓰고 다니네요...  22-07-26   5.0  jeonj\n",
       "97                                 배송이 빨라서 좋네요 잘쓰겠습니다  22-07-15   5.0  jeonj\n",
       "98  배송이 정발 엄청 빠르네요 이제 막 받아서 사용을 해봐야 알겠지만 일단 첫 느낌은 ...  22-06-20   5.0  jeonj\n",
       "99                                        모자는 여기서만 사요  22-07-20   5.0  jeonj\n",
       "\n",
       "[99 rows x 4 columns]"
      ]
     },
     "execution_count": 174,
     "metadata": {},
     "output_type": "execute_result"
    }
   ],
   "source": [
    "tmp"
   ]
  },
  {
   "cell_type": "code",
   "execution_count": 159,
   "id": "c72e047c",
   "metadata": {},
   "outputs": [],
   "source": [
    "from kafka import KafkaProducer\n",
    "import json\n",
    "qwe={'positive':54,'negative':36, 'middle': 10}\n",
    "topic='jeonj'\n",
    "producer = KafkaProducer(acks=1, compression_type='gzip', bootstrap_servers=['3.38.10.106:9092','3.34.18.190:9092','13.209.146.71:9092'], value_serializer=lambda x: json.dumps(x, ensure_ascii=False).encode('utf-8'))\n",
    "producer.send(topic, value=zzz)\n",
    "producer.flush()"
   ]
  }
 ],
 "metadata": {
  "kernelspec": {
   "display_name": "Python 3 (ipykernel)",
   "language": "python",
   "name": "python3"
  },
  "language_info": {
   "codemirror_mode": {
    "name": "ipython",
    "version": 3
   },
   "file_extension": ".py",
   "mimetype": "text/x-python",
   "name": "python",
   "nbconvert_exporter": "python",
   "pygments_lexer": "ipython3",
   "version": "3.9.12"
  }
 },
 "nbformat": 4,
 "nbformat_minor": 5
}
