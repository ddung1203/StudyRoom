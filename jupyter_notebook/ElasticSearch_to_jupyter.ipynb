{
 "cells": [
  {
   "cell_type": "markdown",
   "id": "fccce0a1",
   "metadata": {},
   "source": [
    "# ElasticSearch에서 데이터 가져오기"
   ]
  },
  {
   "cell_type": "markdown",
   "id": "ee4c219c",
   "metadata": {},
   "source": []
  },
  {
   "cell_type": "code",
   "execution_count": null,
   "id": "0c9bae3a",
   "metadata": {},
   "outputs": [],
   "source": [
    "import pandas as pd\n",
    "from elasticsearch import Elasticsearch\n",
    "from pandas.io.json import json_normalize\n",
    "import warnings\n",
    "warnings.simplefilter(action='ignore', category=FutureWarning)\n",
    "import datetime"
   ]
  },
  {
   "cell_type": "code",
   "execution_count": null,
   "id": "6bf20e40",
   "metadata": {},
   "outputs": [],
   "source": []
  },
  {
   "cell_type": "markdown",
   "id": "1eb42615",
   "metadata": {},
   "source": [
    "#### 토픽별로 DataFrame 생성"
   ]
  },
  {
   "cell_type": "code",
   "execution_count": null,
   "id": "8a043560",
   "metadata": {},
   "outputs": [],
   "source": [
    "thecheaper = pd.DataFrame()\n",
    "drstyle = pd.DataFrame()\n",
    "goodnara = pd.DataFrame()\n",
    "theshopsw = pd.DataFrame()\n",
    "cloony = pd.DataFrame()\n",
    "store180 = pd.DataFrame()"
   ]
  },
  {
   "cell_type": "code",
   "execution_count": null,
   "id": "6f196ad1",
   "metadata": {},
   "outputs": [],
   "source": []
  },
  {
   "cell_type": "markdown",
   "id": "da5716a6",
   "metadata": {},
   "source": [
    "#### ElasticSearch에서 데이터 가져오기"
   ]
  },
  {
   "cell_type": "code",
   "execution_count": null,
   "id": "3e8a530b",
   "metadata": {},
   "outputs": [],
   "source": [
    "headers = {'Content-type': 'application/json'}\n",
    "es = Elasticsearch('http://43.200.70.69:30000', headers = headers)\n",
    "doc={\"query\":{\"match_all\":{}}}\n",
    "res=es.search(index=\"smartstore.thecheaper.review-220803\", body=doc, size=50000)\n",
    "for doc in res['hits']['hits']:\n",
    "    thecheaper=thecheaper.append(doc['_source'],ignore_index=True)\n",
    "len(res)\n",
    "\n",
    "headers = {'Content-type': 'application/json'}\n",
    "es = Elasticsearch('http://43.200.70.69:30000', headers = headers)\n",
    "doc={\"query\":{\"match_all\":{}}}\n",
    "res=es.search(index=\"smartstore.drstyle.review-220803\", body=doc, size=50000)\n",
    "for doc in res['hits']['hits']:\n",
    "    drstyle=drstyle.append(doc['_source'],ignore_index=True)\n",
    "len(res)\n",
    "\n",
    "headers = {'Content-type': 'application/json'}\n",
    "es = Elasticsearch('http://43.200.70.69:30000', headers = headers)\n",
    "doc={\"query\":{\"match_all\":{}}}\n",
    "res=es.search(index=\"smartstore.goodnara.review-220803\", body=doc, size=50000)\n",
    "for doc in res['hits']['hits']:\n",
    "    goodnara=goodnara.append(doc['_source'],ignore_index=True)\n",
    "len(res)\n",
    "\n",
    "headers = {'Content-type': 'application/json'}\n",
    "es = Elasticsearch('http://43.200.70.69:30000', headers = headers)\n",
    "doc={\"query\":{\"match_all\":{}}}\n",
    "res=es.search(index=\"smartstore.theshopsw.review-220803\", body=doc, size=50000)\n",
    "for doc in res['hits']['hits']:\n",
    "    theshopsw=theshopsw.append(doc['_source'],ignore_index=True)\n",
    "len(res)\n",
    "\n",
    "headers = {'Content-type': 'application/json'}\n",
    "es = Elasticsearch('http://43.200.70.69:30000', headers = headers)\n",
    "doc={\"query\":{\"match_all\":{}}}\n",
    "res=es.search(index=\"smartstore.cloony.review-220803\", body=doc, size=50000)\n",
    "for doc in res['hits']['hits']:\n",
    "    cloony=cloony.append(doc['_source'],ignore_index=True)\n",
    "len(res)\n",
    "\n",
    "headers = {'Content-type': 'application/json'}\n",
    "es = Elasticsearch('http://43.200.70.69:30000', headers = headers)\n",
    "doc={\"query\":{\"match_all\":{}}}\n",
    "res=es.search(index=\"smartstore.store180.review-220803\", body=doc, size=50000)\n",
    "for doc in res['hits']['hits']:\n",
    "    store180=store180.append(doc['_source'],ignore_index=True)\n",
    "len(res)"
   ]
  },
  {
   "cell_type": "code",
   "execution_count": null,
   "id": "125b6c06",
   "metadata": {},
   "outputs": [],
   "source": []
  },
  {
   "cell_type": "markdown",
   "id": "5178c984",
   "metadata": {},
   "source": [
    "#### 분석에 불필요한 Column 삭제"
   ]
  },
  {
   "cell_type": "code",
   "execution_count": null,
   "id": "1f3594e9",
   "metadata": {},
   "outputs": [],
   "source": [
    "goodnara=goodnara.loc[:, ['comment', 'date', 'star', 'topic']].dropna()\n",
    "thecheaper=thecheaper.loc[:, ['comment', 'date', 'star', 'topic']].dropna()\n",
    "drstyle=drstyle.loc[:, ['comment', 'date', 'star', 'topic']].dropna()\n",
    "theshopsw=theshopsw.loc[:, ['comment', 'date', 'star', 'topic']].dropna()\n",
    "cloony=cloony.loc[:, ['comment', 'date', 'star', 'topic']].dropna()\n",
    "store180=store180.loc[:, ['comment', 'date', 'star', 'topic']].dropna()"
   ]
  },
  {
   "cell_type": "code",
   "execution_count": null,
   "id": "04ae496d",
   "metadata": {},
   "outputs": [],
   "source": []
  },
  {
   "cell_type": "markdown",
   "id": "75f25b5e",
   "metadata": {},
   "source": [
    "#### Date 형식 변경"
   ]
  },
  {
   "cell_type": "code",
   "execution_count": null,
   "id": "d4746c27",
   "metadata": {},
   "outputs": [],
   "source": [
    "goodnara['date'] = pd.to_datetime(goodnara['date'])\n",
    "goodnara_date = pd.DataFrame()\n",
    "year='20'+goodnara['date'].dt.strftime('%d') # to year\n",
    "month=goodnara['date'].dt.strftime('%m') # to month\n",
    "day=goodnara['date'].dt.strftime('%Y').str[2:4] # to date\n",
    "goodnara_date=goodnara_date.append([year, month, day]).T\n",
    "goodnara_date.columns = ['year', 'month', 'day']\n",
    "goodnara_date['date'] = goodnara_date['year']+\"-\"+goodnara_date['month']+'-'+goodnara_date['day']\n",
    "goodnara_date=goodnara_date.loc[:, ['date']]\n",
    "goodnara['date']=goodnara_date['date']\n",
    "\n",
    "thecheaper['date'] = pd.to_datetime(thecheaper['date'])\n",
    "thecheaper_date = pd.DataFrame()\n",
    "year='20'+thecheaper['date'].dt.strftime('%d') # to year\n",
    "month=thecheaper['date'].dt.strftime('%m') # to month\n",
    "day=thecheaper['date'].dt.strftime('%Y').str[2:4] # to date\n",
    "thecheaper_date=thecheaper_date.append([year, month, day]).T\n",
    "thecheaper_date.columns = ['year', 'month', 'day']\n",
    "thecheaper_date['date'] = thecheaper_date['year']+\"-\"+thecheaper_date['month']+'-'+thecheaper_date['day']\n",
    "thecheaper_date=thecheaper_date.loc[:, ['date']]\n",
    "thecheaper['date']=thecheaper_date['date']\n",
    "\n",
    "drstyle['date'] = pd.to_datetime(drstyle['date'])\n",
    "drstyle_date = pd.DataFrame()\n",
    "year='20'+drstyle['date'].dt.strftime('%d') # to year\n",
    "month=drstyle['date'].dt.strftime('%m') # to month\n",
    "day=drstyle['date'].dt.strftime('%Y').str[2:4] # to date\n",
    "drstyle_date=drstyle_date.append([year, month, day]).T\n",
    "drstyle_date.columns = ['year', 'month', 'day']\n",
    "drstyle_date['date'] = drstyle_date['year']+\"-\"+drstyle_date['month']+'-'+drstyle_date['day']\n",
    "drstyle_date=drstyle_date.loc[:, ['date']]\n",
    "drstyle['date']=drstyle_date['date']\n",
    "\n",
    "for i in goodnara['date']:\n",
    "    i=datetime.datetime.strptime(i, \"%Y-%m-%d\").isoformat()\n",
    "for i in thecheaper['date']:\n",
    "    i=datetime.datetime.strptime(i, \"%Y-%m-%d\").isoformat()\n",
    "for i in drstyle['date']:\n",
    "    i=datetime.datetime.strptime(i, \"%Y-%m-%d\").isoformat()\n",
    "    \n",
    "theshopsw['date'] = pd.to_datetime(theshopsw['date'])\n",
    "theshopsw_date = pd.DataFrame()\n",
    "year='20'+theshopsw['date'].dt.strftime('%d') # to year\n",
    "month=theshopsw['date'].dt.strftime('%m') # to month\n",
    "day=theshopsw['date'].dt.strftime('%Y').str[2:4] # to date\n",
    "theshopsw_date=theshopsw_date.append([year, month, day]).T\n",
    "theshopsw_date.columns = ['year', 'month', 'day']\n",
    "theshopsw_date['date'] = theshopsw_date['year']+\"-\"+theshopsw_date['month']+'-'+theshopsw_date['day']\n",
    "theshopsw_date=theshopsw_date.loc[:, ['date']]\n",
    "theshopsw['date']=theshopsw_date['date']\n",
    "\n",
    "cloony['date'] = pd.to_datetime(cloony['date'])\n",
    "cloony_date = pd.DataFrame()\n",
    "year='20'+cloony['date'].dt.strftime('%d') # to year\n",
    "month=cloony['date'].dt.strftime('%m') # to month\n",
    "day=cloony['date'].dt.strftime('%Y').str[2:4] # to date\n",
    "cloony_date=cloony_date.append([year, month, day]).T\n",
    "cloony_date.columns = ['year', 'month', 'day']\n",
    "cloony_date['date'] = cloony_date['year']+\"-\"+cloony_date['month']+'-'+cloony_date['day']\n",
    "cloony_date=cloony_date.loc[:, ['date']]\n",
    "cloony['date']=cloony_date['date']\n",
    "\n",
    "store180['date'] = pd.to_datetime(store180['date'])\n",
    "store180_date = pd.DataFrame()\n",
    "year='20'+store180['date'].dt.strftime('%d') # to year\n",
    "month=store180['date'].dt.strftime('%m') # to month\n",
    "day=store180['date'].dt.strftime('%Y').str[2:4] # to date\n",
    "store180_date=store180_date.append([year, month, day]).T\n",
    "store180_date.columns = ['year', 'month', 'day']\n",
    "store180_date['date'] = store180_date['year']+\"-\"+store180_date['month']+'-'+store180_date['day']\n",
    "store180_date=store180_date.loc[:, ['date']]\n",
    "store180['date']=store180_date['date']\n",
    "\n",
    "for i in theshopsw['date']:\n",
    "    i=datetime.datetime.strptime(i, \"%Y-%m-%d\").isoformat()\n",
    "for i in cloony['date']:\n",
    "    i=datetime.datetime.strptime(i, \"%Y-%m-%d\").isoformat()\n",
    "for i in store180['date']:\n",
    "    i=datetime.datetime.strptime(i, \"%Y-%m-%d\").isoformat()"
   ]
  },
  {
   "cell_type": "code",
   "execution_count": null,
   "id": "2649f3c9",
   "metadata": {},
   "outputs": [],
   "source": []
  },
  {
   "cell_type": "markdown",
   "id": "3ac907de",
   "metadata": {},
   "source": [
    "#### 임시저장"
   ]
  },
  {
   "cell_type": "code",
   "execution_count": null,
   "id": "0e57dcde",
   "metadata": {},
   "outputs": [],
   "source": [
    "goodnara.to_csv(\"goodnara.csv\",encoding='utf-8-sig')\n",
    "drstyle.to_csv(\"drstyle.csv\",encoding='utf-8-sig')\n",
    "thecheaper.to_csv(\"thecheaper.csv\",encoding='utf-8-sig')\n",
    "theshopsw.to_csv(\"theshopsw.csv\",encoding='utf-8-sig')\n",
    "cloony.to_csv(\"cloony.csv\",encoding='utf-8-sig')\n",
    "store180.to_csv(\"store180.csv\",encoding='utf-8-sig')"
   ]
  }
 ],
 "metadata": {
  "kernelspec": {
   "display_name": "Python 3 (ipykernel)",
   "language": "python",
   "name": "python3"
  },
  "language_info": {
   "codemirror_mode": {
    "name": "ipython",
    "version": 3
   },
   "file_extension": ".py",
   "mimetype": "text/x-python",
   "name": "python",
   "nbconvert_exporter": "python",
   "pygments_lexer": "ipython3",
   "version": "3.9.12"
  }
 },
 "nbformat": 4,
 "nbformat_minor": 5
}
