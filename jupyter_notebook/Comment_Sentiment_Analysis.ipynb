{
 "cells": [
  {
   "cell_type": "markdown",
   "id": "4edd9308",
   "metadata": {},
   "source": [
    "# 댓글 감성분석"
   ]
  },
  {
   "cell_type": "markdown",
   "id": "842146af",
   "metadata": {},
   "source": []
  },
  {
   "cell_type": "markdown",
   "id": "3ae3dcc4",
   "metadata": {},
   "source": [
    "#### 데이터 불러오기"
   ]
  },
  {
   "cell_type": "code",
   "execution_count": null,
   "id": "798edfdd",
   "metadata": {},
   "outputs": [],
   "source": [
    "data1 = pd.read_csv('goodnara.csv')\n",
    "data2 = pd.read_csv('drstyle.csv')\n",
    "data3 = pd.read_csv('thecheaper.csv')\n",
    "data4 = pd.read_csv('theshopsw.csv')\n",
    "data5 = pd.read_csv('cloony.csv')\n",
    "data6 = pd.read_csv('store180.csv')\n",
    "data=pd.concat([data1, data2, data3, data4, data5, data6], ignore_index=True)\n",
    "data=data.loc[:, ['comment', 'date', 'star', 'topic']].dropna()"
   ]
  },
  {
   "cell_type": "code",
   "execution_count": null,
   "id": "00bafff4",
   "metadata": {},
   "outputs": [],
   "source": []
  },
  {
   "cell_type": "markdown",
   "id": "d2ad1d65",
   "metadata": {},
   "source": [
    "#### 한국어 맞춤법 검사"
   ]
  },
  {
   "cell_type": "code",
   "execution_count": null,
   "id": "4ca647c4",
   "metadata": {},
   "outputs": [],
   "source": [
    "for i in range(len(data)):\n",
    "    sent = data['comment'][i]\n",
    "    spelled_sent = spell_checker.check(sent)\n",
    "    hanspell_sent = spelled_sent.checked\n",
    "    data['comment'][i] = hanspell_sent"
   ]
  },
  {
   "cell_type": "code",
   "execution_count": null,
   "id": "a527bcee",
   "metadata": {},
   "outputs": [],
   "source": []
  },
  {
   "cell_type": "markdown",
   "id": "39c82bc2",
   "metadata": {},
   "source": [
    "#### 중복 제거\n",
    "#### 정규 표현식 수행\n",
    "#### 공백은 Null 값으로 변경\n",
    "#### Null 값 제거"
   ]
  },
  {
   "cell_type": "code",
   "execution_count": null,
   "id": "d402383c",
   "metadata": {},
   "outputs": [],
   "source": [
    "data.drop_duplicates(subset = ['comment'], inplace=True, ignore_index=True) \n",
    "data['comment'] = data['comment'].str.replace(\"[^ㄱ-ㅎㅏ-ㅣ가-힣 ]\",\"\") \n",
    "data['comment'].replace('', np.nan, inplace=True) \n",
    "data = data.dropna(how='any')\n",
    "\n",
    "stopwords = ['도', '는', '다', '의', '가', '이', '은', '한', '에', '하', '고', '을', '를', '인', '듯', '과', '와', '네', '들', '듯', '지', '임', '게']\n",
    "\n",
    "data=data.reset_index(drop=False)\n",
    "data=data.loc[:, ['comment', 'date', 'star', 'topic']].dropna()"
   ]
  },
  {
   "cell_type": "code",
   "execution_count": null,
   "id": "92affe1f",
   "metadata": {},
   "outputs": [],
   "source": []
  },
  {
   "cell_type": "markdown",
   "id": "675e8ff4",
   "metadata": {},
   "source": [
    "#### 데이터 라벨링"
   ]
  },
  {
   "cell_type": "code",
   "execution_count": null,
   "id": "a83c8e03",
   "metadata": {},
   "outputs": [],
   "source": [
    "data['label'] = np.select([data.star > 3], ['긍정'], default='부정')\n",
    "data['new_label']=None\n",
    "data['tokenized_comment']=None"
   ]
  },
  {
   "cell_type": "code",
   "execution_count": null,
   "id": "1fc12865",
   "metadata": {},
   "outputs": [],
   "source": []
  },
  {
   "cell_type": "markdown",
   "id": "61c28d17",
   "metadata": {},
   "source": [
    "#### 감성분석\n",
    "#### 댓글 토큰화"
   ]
  },
  {
   "cell_type": "code",
   "execution_count": null,
   "id": "6d902429",
   "metadata": {},
   "outputs": [],
   "source": [
    "for i in range(len(data)):\n",
    "        \n",
    "\n",
    "    sp = sentiment_predict(data['comment'][i])\n",
    "    if sp == 1:\n",
    "        data['new_label'][i] = '긍정'\n",
    "    elif sp == -1:\n",
    "        data['new_label'][i] = '부정'\n",
    "    elif sp == 0:\n",
    "        data['new_label'][i] = '중립'\n",
    "    \n",
    "\n",
    "    data['tokenized_comment'][i] = mecab.nouns(data['comment'][i])"
   ]
  }
 ],
 "metadata": {
  "kernelspec": {
   "display_name": "Python 3 (ipykernel)",
   "language": "python",
   "name": "python3"
  },
  "language_info": {
   "codemirror_mode": {
    "name": "ipython",
    "version": 3
   },
   "file_extension": ".py",
   "mimetype": "text/x-python",
   "name": "python",
   "nbconvert_exporter": "python",
   "pygments_lexer": "ipython3",
   "version": "3.9.12"
  }
 },
 "nbformat": 4,
 "nbformat_minor": 5
}
