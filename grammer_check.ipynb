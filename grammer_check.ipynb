{
 "cells": [
  {
   "cell_type": "code",
   "execution_count": 1,
   "id": "5664e8f0",
   "metadata": {},
   "outputs": [],
   "source": [
    "import pandas as pd\n",
    "from hanspell import spell_checker"
   ]
  },
  {
   "cell_type": "code",
   "execution_count": 2,
   "id": "d688d812",
   "metadata": {},
   "outputs": [],
   "source": [
    "i=0\n",
    "split=[]"
   ]
  },
  {
   "cell_type": "code",
   "execution_count": 3,
   "id": "b5198a3f",
   "metadata": {},
   "outputs": [],
   "source": [
    "while True:\n",
    "    try:\n",
    "        globals()['df_{}'.format(i)] = pd.read_csv('D:\\youtube\\df_{}.csv'.format(i))\n",
    "        tmp = globals()['df_{}'.format(i)]['comment']\n",
    "        globals()['df_{}'.format(i)] = tmp.tolist()\n",
    "        globals()['result_{}'.format(i)] = spell_checker.check(globals()['df_{}'.format(i)])\n",
    "\n",
    "        split.append([])\n",
    "        for j in range(100):\n",
    "            split[i].append(((globals()['result_{}'.format(i)][j].checked)))\n",
    "        i=i+1\n",
    "    except:\n",
    "        break\n"
   ]
  },
  {
   "cell_type": "code",
   "execution_count": 5,
   "id": "474c7b69",
   "metadata": {},
   "outputs": [
    {
     "data": {
      "text/plain": [
       "25"
      ]
     },
     "execution_count": 5,
     "metadata": {},
     "output_type": "execute_result"
    }
   ],
   "source": [
    "len(split)"
   ]
  },
  {
   "cell_type": "code",
   "execution_count": 9,
   "id": "4a374646",
   "metadata": {},
   "outputs": [
    {
     "data": {
      "text/plain": [
       "['골프는 관심 없습니다',\n",
       " '집중이 안 된다.',\n",
       " '쑤우',\n",
       " '헬 조선은 실력은 없어도 예쁘면 다 되는구나. 이러니 한국이 성형 왕국이라고 욕먹는 거야. 선진국 반열에 들어간 국가로서 외국인들에게 창피하다. 외국인들이 한국의 과도한 외모지상주의 비웃더라.',\n",
       " '어우 끝나고 아저씨들이랑 했겠네',\n",
       " '골프 더럽게 못 쳐도 프로 딱지 달면 돈 벌기 쉽구나 ㅎ',\n",
       " '오늘은 이거닷..하앜',\n",
       " '아줌마인 줄',\n",
       " '지도할 만큼 실력 안되는데 뭘 가르친다고    본인이나 연습 죽도록 하세요 대회 뵈니   제일 못 치더구먼',\n",
       " '여자 아나운서 싹퉁머리없이 이야기하네',\n",
       " '이번 챔피언 대회서 시청해하니 넘보기 민망할 정도로 옷을 입었네요  좀 신경 써야 하니  라운딩이 안 돌마 큼 몸매 신경 쓰니 공을 제대로 못 치네요  좀 편안하게 옷 입지  시청자가 보기에  정말  눈뜨고 보기 민망  제발 넘치지 않도록',\n",
       " 'Yoo Hyun-Ju is such an all-round athlete, just by her looks you could tell she is at a different level from the others!',\n",
       " 'Wow.... they all had great drives. But, 241m?? My goodness!',\n",
       " '우승만 나오면 초대박.... 유현주 프로. 응원합니다.',\n",
       " '스윙들이 다들 겁나 멋있어 ㅠㅠ',\n",
       " '와우 유현주 선수 최고입니다',\n",
       " '이쁘고 잘 치는데 왜 이렇게 불편하신 분들이 많은지',\n",
       " '와 다들 롱기를 치는데 페어웨이야! 역시 프로들',\n",
       " '김승연 선수 파이팅입니다.. ᄒᄒ..  team 골든블루 파이팅..',\n",
       " '못하는 게 없으시네',\n",
       " '현주는 그냥 평소대로 툭 치는데 241m~~멋지네.',\n",
       " '확실히 피지컬이 유현주가 우월하네...',\n",
       " '역시 파워는 하체에서...',\n",
       " '241m ㄷㄷㄷㄷㄷㄷ',\n",
       " '현주야 우승 한번 가즈야',\n",
       " '스윙 여신 현주 프로 우승함 해야 해!!~~~~~~~~',\n",
       " '유현주  우승 가즈에~~~',\n",
       " '굳이 우승이 필요한가?? 언제나 응원합니다!,',\n",
       " 'Whats the girls name in the black, very pretty and great swing. All the ladies are very pretty but would like to know her name',\n",
       " '뭐가 부족 한지 알면서도 노력하지 않는다는 거~',\n",
       " '우승 우승^^',\n",
       " '설거지가 안돼...',\n",
       " '현주야~언제까지 이런 방송에서 알짱거릴래 우승함 하자',\n",
       " '2부 리그 동료들이 웃겠다..',\n",
       " '가슴만 큰 게 아니었어…',\n",
       " '검정  성....ㄱㄱㄷ',\n",
       " '인공갑빠에서 나오는 힘',\n",
       " '그냥 그게 끝 올해 첫 대회서 중도 기권이라니 프로 자질이 덜됨 그냥 광고나 고고',\n",
       " '없음']"
      ]
     },
     "execution_count": 9,
     "metadata": {},
     "output_type": "execute_result"
    }
   ],
   "source": [
    "split[24]"
   ]
  },
  {
   "cell_type": "code",
   "execution_count": null,
   "id": "41985e3f",
   "metadata": {},
   "outputs": [],
   "source": []
  },
  {
   "cell_type": "code",
   "execution_count": 20,
   "id": "48a599e2",
   "metadata": {},
   "outputs": [],
   "source": [
    "asd=sum(split,[])"
   ]
  },
  {
   "cell_type": "code",
   "execution_count": 22,
   "id": "7b912a81",
   "metadata": {},
   "outputs": [
    {
     "data": {
      "text/plain": [
       "2439"
      ]
     },
     "execution_count": 22,
     "metadata": {},
     "output_type": "execute_result"
    }
   ],
   "source": [
    "len(asd)"
   ]
  },
  {
   "cell_type": "code",
   "execution_count": 25,
   "id": "dd0cbd2e",
   "metadata": {},
   "outputs": [],
   "source": [
    "df=pd.DataFrame(asd, columns=['comment'])"
   ]
  },
  {
   "cell_type": "code",
   "execution_count": 26,
   "id": "57527e9d",
   "metadata": {},
   "outputs": [
    {
     "data": {
      "text/html": [
       "<div>\n",
       "<style scoped>\n",
       "    .dataframe tbody tr th:only-of-type {\n",
       "        vertical-align: middle;\n",
       "    }\n",
       "\n",
       "    .dataframe tbody tr th {\n",
       "        vertical-align: top;\n",
       "    }\n",
       "\n",
       "    .dataframe thead th {\n",
       "        text-align: right;\n",
       "    }\n",
       "</style>\n",
       "<table border=\"1\" class=\"dataframe\">\n",
       "  <thead>\n",
       "    <tr style=\"text-align: right;\">\n",
       "      <th></th>\n",
       "      <th>comment</th>\n",
       "    </tr>\n",
       "  </thead>\n",
       "  <tbody>\n",
       "    <tr>\n",
       "      <th>0</th>\n",
       "      <td>김효주 박상현 선수 개미 여기서도 기대합니다^^</td>\n",
       "    </tr>\n",
       "    <tr>\n",
       "      <th>1</th>\n",
       "      <td>유현주 선수 올해는 꼭 우승하세요</td>\n",
       "    </tr>\n",
       "    <tr>\n",
       "      <th>2</th>\n",
       "      <td>유현주 선수는 ㅎㄷㄷ하시네</td>\n",
       "    </tr>\n",
       "    <tr>\n",
       "      <th>3</th>\n",
       "      <td>지니어스 기묘자 너무 좋아요 울프로 분위기 메이커 라이블리️️</td>\n",
       "    </tr>\n",
       "    <tr>\n",
       "      <th>4</th>\n",
       "      <td>유현주 님 지구대표급 피지컬..</td>\n",
       "    </tr>\n",
       "    <tr>\n",
       "      <th>...</th>\n",
       "      <td>...</td>\n",
       "    </tr>\n",
       "    <tr>\n",
       "      <th>2434</th>\n",
       "      <td>가슴만 큰 게 아니었어…</td>\n",
       "    </tr>\n",
       "    <tr>\n",
       "      <th>2435</th>\n",
       "      <td>검정  성....ㄱㄱㄷ</td>\n",
       "    </tr>\n",
       "    <tr>\n",
       "      <th>2436</th>\n",
       "      <td>인공갑빠에서 나오는 힘</td>\n",
       "    </tr>\n",
       "    <tr>\n",
       "      <th>2437</th>\n",
       "      <td>그냥 그게 끝 올해 첫 대회서 중도 기권이라니 프로 자질이 덜됨 그냥 광고나 고고</td>\n",
       "    </tr>\n",
       "    <tr>\n",
       "      <th>2438</th>\n",
       "      <td>없음</td>\n",
       "    </tr>\n",
       "  </tbody>\n",
       "</table>\n",
       "<p>2439 rows × 1 columns</p>\n",
       "</div>"
      ],
      "text/plain": [
       "                                            comment\n",
       "0                        김효주 박상현 선수 개미 여기서도 기대합니다^^\n",
       "1                               유현주 선수 올해는 꼭 우승하세요 \n",
       "2                                    유현주 선수는 ㅎㄷㄷ하시네\n",
       "3                지니어스 기묘자 너무 좋아요 울프로 분위기 메이커 라이블리️️\n",
       "4                                 유현주 님 지구대표급 피지컬..\n",
       "...                                             ...\n",
       "2434                                  가슴만 큰 게 아니었어…\n",
       "2435                                   검정  성....ㄱㄱㄷ\n",
       "2436                                   인공갑빠에서 나오는 힘\n",
       "2437  그냥 그게 끝 올해 첫 대회서 중도 기권이라니 프로 자질이 덜됨 그냥 광고나 고고\n",
       "2438                                             없음\n",
       "\n",
       "[2439 rows x 1 columns]"
      ]
     },
     "execution_count": 26,
     "metadata": {},
     "output_type": "execute_result"
    }
   ],
   "source": [
    "df"
   ]
  },
  {
   "cell_type": "code",
   "execution_count": 28,
   "id": "07ddc1dc",
   "metadata": {},
   "outputs": [],
   "source": [
    "df.to_csv(\"D:\\\\youtube_result.csv\", encoding=\"utf-8-sig\")"
   ]
  }
 ],
 "metadata": {
  "kernelspec": {
   "display_name": "Python 3 (ipykernel)",
   "language": "python",
   "name": "python3"
  },
  "language_info": {
   "codemirror_mode": {
    "name": "ipython",
    "version": 3
   },
   "file_extension": ".py",
   "mimetype": "text/x-python",
   "name": "python",
   "nbconvert_exporter": "python",
   "pygments_lexer": "ipython3",
   "version": "3.9.12"
  }
 },
 "nbformat": 4,
 "nbformat_minor": 5
}
